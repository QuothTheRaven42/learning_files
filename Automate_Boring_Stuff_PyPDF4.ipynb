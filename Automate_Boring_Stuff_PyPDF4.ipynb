{
  "nbformat": 4,
  "nbformat_minor": 0,
  "metadata": {
    "colab": {
      "name": "Automate_Boring_Stuff_PyPDF4.ipynb",
      "provenance": [],
      "collapsed_sections": [],
      "authorship_tag": "ABX9TyM8tUO7Ee41aJBa7h9S+y2b",
      "include_colab_link": true
    },
    "kernelspec": {
      "name": "python3",
      "display_name": "Python 3"
    }
  },
  "cells": [
    {
      "cell_type": "markdown",
      "metadata": {
        "id": "view-in-github",
        "colab_type": "text"
      },
      "source": [
        "<a href=\"https://colab.research.google.com/github/QuothTheRaven42/learning_files/blob/master/Automate_Boring_Stuff_PyPDF4.ipynb\" target=\"_parent\"><img src=\"https://colab.research.google.com/assets/colab-badge.svg\" alt=\"Open In Colab\"/></a>"
      ]
    },
    {
      "cell_type": "code",
      "metadata": {
        "id": "XAMkV7znvjf5",
        "colab_type": "code",
        "colab": {
          "base_uri": "https://localhost:8080/",
          "height": 215
        },
        "outputId": "8fc7a817-38c1-4af5-e5bf-3202c07437df"
      },
      "source": [
        "pip install PyPDF4"
      ],
      "execution_count": 3,
      "outputs": [
        {
          "output_type": "stream",
          "text": [
            "Collecting PyPDF4\n",
            "\u001b[?25l  Downloading https://files.pythonhosted.org/packages/4f/1f/509b44850c475c101aa5b5c9b81755cedd363389d6fbb5c53be6fa915a61/PyPDF4-1.27.0.tar.gz (63kB)\n",
            "\r\u001b[K     |█████▏                          | 10kB 15.7MB/s eta 0:00:01\r\u001b[K     |██████████▎                     | 20kB 1.8MB/s eta 0:00:01\r\u001b[K     |███████████████▍                | 30kB 2.2MB/s eta 0:00:01\r\u001b[K     |████████████████████▌           | 40kB 2.6MB/s eta 0:00:01\r\u001b[K     |█████████████████████████▋      | 51kB 2.0MB/s eta 0:00:01\r\u001b[K     |██████████████████████████████▊ | 61kB 2.3MB/s eta 0:00:01\r\u001b[K     |████████████████████████████████| 71kB 2.0MB/s \n",
            "\u001b[?25hBuilding wheels for collected packages: PyPDF4\n",
            "  Building wheel for PyPDF4 (setup.py) ... \u001b[?25l\u001b[?25hdone\n",
            "  Created wheel for PyPDF4: filename=PyPDF4-1.27.0-cp36-none-any.whl size=61249 sha256=e5dd684d3384d7c268151d8ba26d4db83a50173aaeb867f57d5b1e919a86456b\n",
            "  Stored in directory: /root/.cache/pip/wheels/eb/4f/15/c64d533cb496fd874f56045fe30e8cc0ac59f99ecdd718040d\n",
            "Successfully built PyPDF4\n",
            "Installing collected packages: PyPDF4\n",
            "Successfully installed PyPDF4-1.27.0\n"
          ],
          "name": "stdout"
        }
      ]
    },
    {
      "cell_type": "code",
      "metadata": {
        "id": "kGKAsMGgvDWn",
        "colab_type": "code",
        "colab": {}
      },
      "source": [
        "# https://automatetheboringstuff.com/chapter13/\n",
        "\n",
        "import PyPDF4 # library for handling pdf's"
      ],
      "execution_count": 4,
      "outputs": []
    },
    {
      "cell_type": "code",
      "metadata": {
        "id": "53QvNuiSvI7X",
        "colab_type": "code",
        "colab": {}
      },
      "source": [
        "pdf = open('MeetingMinutes1.pdf', 'rb') # pdf's are binary files\n",
        "reader = PyPDF4.PdfFileReader(pdf) # pypdf4 object\n",
        "# print(reader.numPages) # total num of pages\n",
        "page = reader.getPage(0) # specific page saved to object\n",
        "# print(page.extractText()) # returns the object text"
      ],
      "execution_count": 13,
      "outputs": []
    },
    {
      "cell_type": "code",
      "metadata": {
        "id": "8YkWhC7YvKow",
        "colab_type": "code",
        "colab": {}
      },
      "source": [
        "# printing entire text\n",
        "# for page_num in range(reader.numPages):\n",
        "    # print(reader.getPage(page_num).extractText())"
      ],
      "execution_count": 14,
      "outputs": []
    },
    {
      "cell_type": "code",
      "metadata": {
        "id": "QoJdPex7vMob",
        "colab_type": "code",
        "colab": {}
      },
      "source": [
        "# new document containing contents of 2 pdf's\n",
        "pdf1 = open('MeetingMinutes2.pdf', 'rb')\n",
        "reader1 = PyPDF4.PdfFileReader(pdf1)    "
      ],
      "execution_count": 9,
      "outputs": []
    },
    {
      "cell_type": "code",
      "metadata": {
        "id": "j5XLu1c7vPF-",
        "colab_type": "code",
        "colab": {}
      },
      "source": [
        "writer = PyPDF4.PdfFileWriter() # creates blank pdf, no pages\n",
        "for page_num in range(reader1.numPages):\n",
        "    page = reader1.getPage(page_num)\n",
        "    writer.addPage(page)"
      ],
      "execution_count": 10,
      "outputs": []
    },
    {
      "cell_type": "code",
      "metadata": {
        "id": "dRhM_DRhvW5B",
        "colab_type": "code",
        "colab": {}
      },
      "source": [
        "writer = PyPDF4.PdfFileWriter() # creates blank pdf object\n",
        "for page_num in range(reader.numPages):\n",
        "    page = reader.getPage(page_num)\n",
        "    writer.addPage(page)"
      ],
      "execution_count": 11,
      "outputs": []
    },
    {
      "cell_type": "code",
      "metadata": {
        "id": "gvvwd8G8vZen",
        "colab_type": "code",
        "colab": {}
      },
      "source": [
        "# write to file\n",
        "output = open('combined.pdf', 'wb')\n",
        "writer.write(output)\n",
        "\n",
        "# close all objects\n",
        "output.close()\n",
        "pdf.close()\n",
        "pdf1.close()"
      ],
      "execution_count": 15,
      "outputs": []
    },
    {
      "cell_type": "code",
      "metadata": {
        "id": "SM2QvG1Hv79W",
        "colab_type": "code",
        "colab": {}
      },
      "source": [
        ""
      ],
      "execution_count": null,
      "outputs": []
    }
  ]
}
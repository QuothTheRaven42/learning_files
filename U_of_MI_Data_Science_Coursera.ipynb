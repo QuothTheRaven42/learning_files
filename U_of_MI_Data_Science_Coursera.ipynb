{
  "nbformat": 4,
  "nbformat_minor": 0,
  "metadata": {
    "colab": {
      "name": "U_of_MI_Data_Science_Coursera.ipynb",
      "provenance": [],
      "collapsed_sections": [],
      "authorship_tag": "ABX9TyMNNE4/DnPi1kwmOHN9r8Me",
      "include_colab_link": true
    },
    "kernelspec": {
      "name": "python3",
      "display_name": "Python 3"
    }
  },
  "cells": [
    {
      "cell_type": "markdown",
      "metadata": {
        "id": "view-in-github",
        "colab_type": "text"
      },
      "source": [
        "<a href=\"https://colab.research.google.com/github/QuothTheRaven42/learning_files/blob/master/U_of_MI_Data_Science_Coursera.ipynb\" target=\"_parent\"><img src=\"https://colab.research.google.com/assets/colab-badge.svg\" alt=\"Open In Colab\"/></a>"
      ]
    },
    {
      "cell_type": "markdown",
      "metadata": {
        "id": "OgO7sxEzfrxH",
        "colab_type": "text"
      },
      "source": [
        "# https://www.coursera.org/learn/python-data-analysis/lecture/LdmXU/advanced-python-demonstration-the-numerical-python-library-numpy"
      ]
    },
    {
      "cell_type": "code",
      "metadata": {
        "id": "4nqqLR5VeSPn",
        "colab_type": "code",
        "colab": {}
      },
      "source": [
        "import numpy as np"
      ],
      "execution_count": 1,
      "outputs": []
    },
    {
      "cell_type": "code",
      "metadata": {
        "id": "xtIntcafeUyd",
        "colab_type": "code",
        "colab": {
          "base_uri": "https://localhost:8080/",
          "height": 35
        },
        "outputId": "176fd6e5-60fa-4a65-a317-cd8b6efc0102"
      },
      "source": [
        "my_list = [1,2,3,4]\n",
        "my_array = np.array(my_list)\n",
        "print(my_array)"
      ],
      "execution_count": 3,
      "outputs": [
        {
          "output_type": "stream",
          "text": [
            "[1 2 3 4]\n"
          ],
          "name": "stdout"
        }
      ]
    },
    {
      "cell_type": "code",
      "metadata": {
        "id": "Q9iWIS8heWD7",
        "colab_type": "code",
        "colab": {
          "base_uri": "https://localhost:8080/",
          "height": 35
        },
        "outputId": "828a308f-002d-4ad3-8e6d-266e5cf55a08"
      },
      "source": [
        "n = np.array([[1,2,3], [4,5,6]])\n",
        "print(n.shape)"
      ],
      "execution_count": 4,
      "outputs": [
        {
          "output_type": "stream",
          "text": [
            "(2, 3)\n"
          ],
          "name": "stdout"
        }
      ]
    },
    {
      "cell_type": "code",
      "metadata": {
        "id": "yS7mQeV4eYiU",
        "colab_type": "code",
        "colab": {
          "base_uri": "https://localhost:8080/",
          "height": 35
        },
        "outputId": "f8ada2ec-0001-4dc3-ca65-8d75e293be3e"
      },
      "source": [
        "# evenly spaced integers, works same as range\n",
        "n = np.arange(0, 30, 2)\n",
        "print(n)"
      ],
      "execution_count": 6,
      "outputs": [
        {
          "output_type": "stream",
          "text": [
            "[ 0  2  4  6  8 10 12 14 16 18 20 22 24 26 28]\n"
          ],
          "name": "stdout"
        }
      ]
    },
    {
      "cell_type": "code",
      "metadata": {
        "id": "FLJCVNUHega7",
        "colab_type": "code",
        "colab": {
          "base_uri": "https://localhost:8080/",
          "height": 70
        },
        "outputId": "acfe4186-4e77-4128-e14a-ba5b0dc87f45"
      },
      "source": [
        "# can reshape array\n",
        "print(n.reshape(3,5))"
      ],
      "execution_count": 7,
      "outputs": [
        {
          "output_type": "stream",
          "text": [
            "[[ 0  2  4  6  8]\n",
            " [10 12 14 16 18]\n",
            " [20 22 24 26 28]]\n"
          ],
          "name": "stdout"
        }
      ]
    },
    {
      "cell_type": "code",
      "metadata": {
        "id": "BubMb8HbehKO",
        "colab_type": "code",
        "colab": {
          "base_uri": "https://localhost:8080/",
          "height": 70
        },
        "outputId": "534d2eee-525a-462f-97b5-7c87d6a2a3ac"
      },
      "source": [
        "#similar but returns split by given interval\n",
        "o = np.linspace(0,4,9)\n",
        "o.resize(3,3) # resize changes dimensions in place, returns None\n",
        "print(o)"
      ],
      "execution_count": 8,
      "outputs": [
        {
          "output_type": "stream",
          "text": [
            "[[0.  0.5 1. ]\n",
            " [1.5 2.  2.5]\n",
            " [3.  3.5 4. ]]\n"
          ],
          "name": "stdout"
        }
      ]
    },
    {
      "cell_type": "code",
      "metadata": {
        "id": "fvETnOPiei-Q",
        "colab_type": "code",
        "colab": {
          "base_uri": "https://localhost:8080/",
          "height": 444
        },
        "outputId": "c007c01c-aa4b-4221-c318-bfa0ecada39f"
      },
      "source": [
        "# 1's for all values\n",
        "print(np.ones((3,2)))\n",
        "# 0's on diagonal\n",
        "print(np.zeros((3,2)))\n",
        "# 1's on diagonal\n",
        "print(np.eye(3))\n",
        "# specific array on diagonal\n",
        "print(np.diag(n))"
      ],
      "execution_count": 9,
      "outputs": [
        {
          "output_type": "stream",
          "text": [
            "[[1. 1.]\n",
            " [1. 1.]\n",
            " [1. 1.]]\n",
            "[[0. 0.]\n",
            " [0. 0.]\n",
            " [0. 0.]]\n",
            "[[1. 0. 0.]\n",
            " [0. 1. 0.]\n",
            " [0. 0. 1.]]\n",
            "[[ 0  0  0  0  0  0  0  0  0  0  0  0  0  0  0]\n",
            " [ 0  2  0  0  0  0  0  0  0  0  0  0  0  0  0]\n",
            " [ 0  0  4  0  0  0  0  0  0  0  0  0  0  0  0]\n",
            " [ 0  0  0  6  0  0  0  0  0  0  0  0  0  0  0]\n",
            " [ 0  0  0  0  8  0  0  0  0  0  0  0  0  0  0]\n",
            " [ 0  0  0  0  0 10  0  0  0  0  0  0  0  0  0]\n",
            " [ 0  0  0  0  0  0 12  0  0  0  0  0  0  0  0]\n",
            " [ 0  0  0  0  0  0  0 14  0  0  0  0  0  0  0]\n",
            " [ 0  0  0  0  0  0  0  0 16  0  0  0  0  0  0]\n",
            " [ 0  0  0  0  0  0  0  0  0 18  0  0  0  0  0]\n",
            " [ 0  0  0  0  0  0  0  0  0  0 20  0  0  0  0]\n",
            " [ 0  0  0  0  0  0  0  0  0  0  0 22  0  0  0]\n",
            " [ 0  0  0  0  0  0  0  0  0  0  0  0 24  0  0]\n",
            " [ 0  0  0  0  0  0  0  0  0  0  0  0  0 26  0]\n",
            " [ 0  0  0  0  0  0  0  0  0  0  0  0  0  0 28]]\n"
          ],
          "name": "stdout"
        }
      ]
    },
    {
      "cell_type": "code",
      "metadata": {
        "id": "O0C02qq2ek85",
        "colab_type": "code",
        "colab": {
          "base_uri": "https://localhost:8080/",
          "height": 52
        },
        "outputId": "4cb3c685-1845-47ce-b6fa-b126dda94c0d"
      },
      "source": [
        "# multiplying repeats entire array\n",
        "print(np.array([1,2,3] * 3))\n",
        "# .repeat() broadcasts multiplication by keyword int\n",
        "print(np.repeat([1,2,3], 3))"
      ],
      "execution_count": 10,
      "outputs": [
        {
          "output_type": "stream",
          "text": [
            "[1 2 3 1 2 3 1 2 3]\n",
            "[1 1 1 2 2 2 3 3 3]\n"
          ],
          "name": "stdout"
        }
      ]
    },
    {
      "cell_type": "code",
      "metadata": {
        "id": "WxLdKrBDemz5",
        "colab_type": "code",
        "colab": {
          "base_uri": "https://localhost:8080/",
          "height": 230
        },
        "outputId": "59731c3e-0378-4813-c4cf-b18e3b124507"
      },
      "source": [
        "p = np.ones([3,3], int) # returns float by default, can change by keyword\n",
        "print(p)\n",
        "# stack array in vertical sequence\n",
        "print(np.vstack([p, 2*p]))\n",
        "# stack array in horizontal sequence\n",
        "print(np.hstack([p, 2*p]))"
      ],
      "execution_count": 11,
      "outputs": [
        {
          "output_type": "stream",
          "text": [
            "[[1 1 1]\n",
            " [1 1 1]\n",
            " [1 1 1]]\n",
            "[[1 1 1]\n",
            " [1 1 1]\n",
            " [1 1 1]\n",
            " [2 2 2]\n",
            " [2 2 2]\n",
            " [2 2 2]]\n",
            "[[1 1 1 2 2 2]\n",
            " [1 1 1 2 2 2]\n",
            " [1 1 1 2 2 2]]\n"
          ],
          "name": "stdout"
        }
      ]
    },
    {
      "cell_type": "markdown",
      "metadata": {
        "id": "MqxV8fVVeqfa",
        "colab_type": "text"
      },
      "source": [
        "## Operations"
      ]
    },
    {
      "cell_type": "code",
      "metadata": {
        "id": "J9HLPYvheonh",
        "colab_type": "code",
        "colab": {
          "base_uri": "https://localhost:8080/",
          "height": 124
        },
        "outputId": "eb549d84-eeb6-4788-c725-dc0eb3581fc6"
      },
      "source": [
        "print(o + p) # as long as same shape\n",
        "print(o.dot(p)) # dot product from linear algebra"
      ],
      "execution_count": 12,
      "outputs": [
        {
          "output_type": "stream",
          "text": [
            "[[1.  1.5 2. ]\n",
            " [2.5 3.  3.5]\n",
            " [4.  4.5 5. ]]\n",
            "[[ 1.5  1.5  1.5]\n",
            " [ 6.   6.   6. ]\n",
            " [10.5 10.5 10.5]]\n"
          ],
          "name": "stdout"
        }
      ]
    },
    {
      "cell_type": "code",
      "metadata": {
        "id": "jWnVluITerns",
        "colab_type": "code",
        "colab": {
          "base_uri": "https://localhost:8080/",
          "height": 212
        },
        "outputId": "e4672ae5-7f87-45d3-d217-16c287440bd1"
      },
      "source": [
        "x = np.array([o, o**2])\n",
        "print(x.T) # transpose shape"
      ],
      "execution_count": 14,
      "outputs": [
        {
          "output_type": "stream",
          "text": [
            "[[[ 0.    0.  ]\n",
            "  [ 1.5   2.25]\n",
            "  [ 3.    9.  ]]\n",
            "\n",
            " [[ 0.5   0.25]\n",
            "  [ 2.    4.  ]\n",
            "  [ 3.5  12.25]]\n",
            "\n",
            " [[ 1.    1.  ]\n",
            "  [ 2.5   6.25]\n",
            "  [ 4.   16.  ]]]\n"
          ],
          "name": "stdout"
        }
      ]
    },
    {
      "cell_type": "code",
      "metadata": {
        "id": "KrEu8vvveufl",
        "colab_type": "code",
        "colab": {
          "base_uri": "https://localhost:8080/",
          "height": 52
        },
        "outputId": "0e0df6d8-980c-427e-e797-8efcdc2d4ce2"
      },
      "source": [
        "print(x.dtype) # check dtype\n",
        "x = x.astype('i') # can change dtype with .astype()\n",
        "print(x.dtype) # dtype is changed to int"
      ],
      "execution_count": 15,
      "outputs": [
        {
          "output_type": "stream",
          "text": [
            "float64\n",
            "int32\n"
          ],
          "name": "stdout"
        }
      ]
    },
    {
      "cell_type": "code",
      "metadata": {
        "id": "guH_t318eyWR",
        "colab_type": "code",
        "colab": {
          "base_uri": "https://localhost:8080/",
          "height": 106
        },
        "outputId": "daa084fa-ae87-4eb1-d377-1f80f54d09dd"
      },
      "source": [
        "a = np.array([-4, -2, 1, 3 ,5])\n",
        "print(a.sum())\n",
        "print(a.max())\n",
        "print(a.argmax()) # index of maximum value\n",
        "print(a.argmin()) # index of minimum value\n",
        "print(a.std()) # standard deviation of values"
      ],
      "execution_count": 16,
      "outputs": [
        {
          "output_type": "stream",
          "text": [
            "3\n",
            "5\n",
            "4\n",
            "0\n",
            "3.2619012860600183\n"
          ],
          "name": "stdout"
        }
      ]
    },
    {
      "cell_type": "markdown",
      "metadata": {
        "id": "QomkfYMMe1kL",
        "colab_type": "text"
      },
      "source": [
        "## Indexing and slicing"
      ]
    },
    {
      "cell_type": "code",
      "metadata": {
        "id": "daKopvmVeznZ",
        "colab_type": "code",
        "colab": {
          "base_uri": "https://localhost:8080/",
          "height": 70
        },
        "outputId": "4870af84-f2ee-44d6-e6ad-914465404a6d"
      },
      "source": [
        "z = np.arange(10) ** 2\n",
        "print(z)\n",
        "print(z[0], z[4], z[:3]) # slice returns an array\n",
        "print(z[-4:])"
      ],
      "execution_count": 17,
      "outputs": [
        {
          "output_type": "stream",
          "text": [
            "[ 0  1  4  9 16 25 36 49 64 81]\n",
            "0 16 [0 1 4]\n",
            "[36 49 64 81]\n"
          ],
          "name": "stdout"
        }
      ]
    },
    {
      "cell_type": "code",
      "metadata": {
        "id": "dLm8o1OSe48k",
        "colab_type": "code",
        "colab": {
          "base_uri": "https://localhost:8080/",
          "height": 195
        },
        "outputId": "624c657b-a699-4781-aaea-edb23ab133a2"
      },
      "source": [
        "y = np.arange(36)\n",
        "y.resize([6,6])\n",
        "print(y)\n",
        "print(y[2,2]) # comma notation to access values by row and column\n",
        "print(y[3,3:6]) # 3rd index row, 3rd through 5th index columns\n",
        "print(y[-1,::2]) # every other element from last row\n",
        "print(y[y > 30]) # conditional indexing\n",
        "y[y > 30] = 30 # conditional assignment"
      ],
      "execution_count": 18,
      "outputs": [
        {
          "output_type": "stream",
          "text": [
            "[[ 0  1  2  3  4  5]\n",
            " [ 6  7  8  9 10 11]\n",
            " [12 13 14 15 16 17]\n",
            " [18 19 20 21 22 23]\n",
            " [24 25 26 27 28 29]\n",
            " [30 31 32 33 34 35]]\n",
            "14\n",
            "[21 22 23]\n",
            "[30 32 34]\n",
            "[31 32 33 34 35]\n"
          ],
          "name": "stdout"
        }
      ]
    },
    {
      "cell_type": "code",
      "metadata": {
        "id": "Aieuu5Xpe6Q5",
        "colab_type": "code",
        "colab": {
          "base_uri": "https://localhost:8080/",
          "height": 230
        },
        "outputId": "648820c0-7997-4178-e02c-5b6e687e2504"
      },
      "source": [
        "y2 = y[:3, :3] # not a copy!\n",
        "y2[:] = 0\n",
        "print(y) # assigned to both y and y2\n",
        "print(y.copy()) # actual copy"
      ],
      "execution_count": 19,
      "outputs": [
        {
          "output_type": "stream",
          "text": [
            "[[ 0  0  0  3  4  5]\n",
            " [ 0  0  0  9 10 11]\n",
            " [ 0  0  0 15 16 17]\n",
            " [18 19 20 21 22 23]\n",
            " [24 25 26 27 28 29]\n",
            " [30 30 30 30 30 30]]\n",
            "[[ 0  0  0  3  4  5]\n",
            " [ 0  0  0  9 10 11]\n",
            " [ 0  0  0 15 16 17]\n",
            " [18 19 20 21 22 23]\n",
            " [24 25 26 27 28 29]\n",
            " [30 30 30 30 30 30]]\n"
          ],
          "name": "stdout"
        }
      ]
    },
    {
      "cell_type": "markdown",
      "metadata": {
        "id": "zeoUPfgEe83M",
        "colab_type": "text"
      },
      "source": [
        "## iterating over arrays"
      ]
    },
    {
      "cell_type": "code",
      "metadata": {
        "id": "hdIxzUvYe7WJ",
        "colab_type": "code",
        "colab": {}
      },
      "source": [
        "test = np.random.randint(0, 10, (4,3)) # pass in shape as tuple"
      ],
      "execution_count": 20,
      "outputs": []
    },
    {
      "cell_type": "code",
      "metadata": {
        "id": "zB2S8DP1e-SY",
        "colab_type": "code",
        "colab": {
          "base_uri": "https://localhost:8080/",
          "height": 88
        },
        "outputId": "78cf4bde-a90a-40e0-8eb5-b81ceb34604f"
      },
      "source": [
        "for row in test:\n",
        "    print(row)"
      ],
      "execution_count": 21,
      "outputs": [
        {
          "output_type": "stream",
          "text": [
            "[7 0 6]\n",
            "[2 8 2]\n",
            "[6 7 0]\n",
            "[4 2 7]\n"
          ],
          "name": "stdout"
        }
      ]
    },
    {
      "cell_type": "code",
      "metadata": {
        "id": "2C0EzCP2e_b8",
        "colab_type": "code",
        "colab": {
          "base_uri": "https://localhost:8080/",
          "height": 88
        },
        "outputId": "f749ef28-d822-4781-d7b2-539f97df0d98"
      },
      "source": [
        "for i in range(len(test)):\n",
        "    print(test[i])"
      ],
      "execution_count": 22,
      "outputs": [
        {
          "output_type": "stream",
          "text": [
            "[7 0 6]\n",
            "[2 8 2]\n",
            "[6 7 0]\n",
            "[4 2 7]\n"
          ],
          "name": "stdout"
        }
      ]
    },
    {
      "cell_type": "code",
      "metadata": {
        "id": "LeIiLEfafAw7",
        "colab_type": "code",
        "colab": {
          "base_uri": "https://localhost:8080/",
          "height": 88
        },
        "outputId": "f1e06400-de84-4b9c-9426-c319271421ef"
      },
      "source": [
        "for i, row in enumerate(test):\n",
        "    print(i, row)"
      ],
      "execution_count": 23,
      "outputs": [
        {
          "output_type": "stream",
          "text": [
            "0 [7 0 6]\n",
            "1 [2 8 2]\n",
            "2 [6 7 0]\n",
            "3 [4 2 7]\n"
          ],
          "name": "stdout"
        }
      ]
    },
    {
      "cell_type": "code",
      "metadata": {
        "id": "KUpmdTHFfBx0",
        "colab_type": "code",
        "colab": {
          "base_uri": "https://localhost:8080/",
          "height": 88
        },
        "outputId": "b181dc06-0ea6-41fd-8a76-84c7f5baa586"
      },
      "source": [
        "test2 = test**2\n",
        "for i, j in zip(test, test2):\n",
        "    print(f'{i} + {j} = {i+j}')"
      ],
      "execution_count": 24,
      "outputs": [
        {
          "output_type": "stream",
          "text": [
            "[7 0 6] + [49  0 36] = [56  0 42]\n",
            "[2 8 2] + [ 4 64  4] = [ 6 72  6]\n",
            "[6 7 0] + [36 49  0] = [42 56  0]\n",
            "[4 2 7] + [16  4 49] = [20  6 56]\n"
          ],
          "name": "stdout"
        }
      ]
    },
    {
      "cell_type": "code",
      "metadata": {
        "id": "3B7rPeJHfC_6",
        "colab_type": "code",
        "colab": {}
      },
      "source": [
        ""
      ],
      "execution_count": null,
      "outputs": []
    }
  ]
}
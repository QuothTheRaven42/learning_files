{
  "nbformat": 4,
  "nbformat_minor": 0,
  "metadata": {
    "colab": {
      "name": "Automate_Boring_Stuff_email.ipynb",
      "provenance": [],
      "collapsed_sections": [],
      "authorship_tag": "ABX9TyPVOoEBajR8OTQAOWmBom24",
      "include_colab_link": true
    },
    "kernelspec": {
      "name": "python3",
      "display_name": "Python 3"
    }
  },
  "cells": [
    {
      "cell_type": "markdown",
      "metadata": {
        "id": "view-in-github",
        "colab_type": "text"
      },
      "source": [
        "<a href=\"https://colab.research.google.com/github/QuothTheRaven42/learning_files/blob/master/Automate_Boring_Stuff_email.ipynb\" target=\"_parent\"><img src=\"https://colab.research.google.com/assets/colab-badge.svg\" alt=\"Open In Colab\"/></a>"
      ]
    },
    {
      "cell_type": "code",
      "metadata": {
        "id": "nnxBRrgYq8TU",
        "colab_type": "code",
        "colab": {}
      },
      "source": [
        "'''\n",
        "Reading and Editing Word Documents\n",
        "Automate the Boring Stuff\n",
        "https://automatetheboringstuff.com/chapter16/\n",
        "'''\n",
        "\n",
        "# document objects contain Paragraph objects\n",
        "# paragraph objects contain Run objects\n",
        "\n",
        "import smtplib"
      ],
      "execution_count": 9,
      "outputs": []
    },
    {
      "cell_type": "code",
      "metadata": {
        "id": "44EfOrGEq_Ed",
        "colab_type": "code",
        "colab": {
          "base_uri": "https://localhost:8080/",
          "height": 35
        },
        "outputId": "1ba7d25b-e182-452f-8745-096e70d87967"
      },
      "source": [
        "conn = smtplib.SMTP('smtp.gmail.com', 587) # pass domain and port\n",
        "conn.ehlo()     # starts connection\n",
        "conn.starttls() # starts encryption"
      ],
      "execution_count": 4,
      "outputs": [
        {
          "output_type": "execute_result",
          "data": {
            "text/plain": [
              "(220, b'2.0.0 Ready to start TLS')"
            ]
          },
          "metadata": {
            "tags": []
          },
          "execution_count": 4
        }
      ]
    },
    {
      "cell_type": "code",
      "metadata": {
        "id": "n5hACQ-irCFF",
        "colab_type": "code",
        "colab": {
          "base_uri": "https://localhost:8080/",
          "height": 35
        },
        "outputId": "541f3f06-fe6c-408d-a145-b8a158e4e3bf"
      },
      "source": [
        "conn.login('davidbankson@gmail.com', '031283Davi!')"
      ],
      "execution_count": 6,
      "outputs": [
        {
          "output_type": "execute_result",
          "data": {
            "text/plain": [
              "(235, b'2.7.0 Accepted')"
            ]
          },
          "metadata": {
            "tags": []
          },
          "execution_count": 6
        }
      ]
    },
    {
      "cell_type": "code",
      "metadata": {
        "id": "ybkmrxCqrK0Y",
        "colab_type": "code",
        "colab": {
          "base_uri": "https://localhost:8080/",
          "height": 35
        },
        "outputId": "aa10d852-8849-41c4-ca46-883e7565b377"
      },
      "source": [
        "# service will limit max amount of emails sent by script\n",
        "# Subject required, followed by 2 new lines\n",
        "conn.sendmail('davidbankson@gmail.com',\n",
        "              'davidbankson@gmail.com',\n",
        "              'Subject: hey there\\n\\nThis is the body of the email') # (from, to, body of email)\n",
        "            # returns nothing if email was successful"
      ],
      "execution_count": 7,
      "outputs": [
        {
          "output_type": "execute_result",
          "data": {
            "text/plain": [
              "{}"
            ]
          },
          "metadata": {
            "tags": []
          },
          "execution_count": 7
        }
      ]
    },
    {
      "cell_type": "code",
      "metadata": {
        "id": "DSAPragJraze",
        "colab_type": "code",
        "colab": {
          "base_uri": "https://localhost:8080/",
          "height": 35
        },
        "outputId": "cf38b144-cc32-4baa-b5fb-53ebfd8fc8b2"
      },
      "source": [
        "conn.quit() # disconnect from smtp server"
      ],
      "execution_count": 8,
      "outputs": [
        {
          "output_type": "execute_result",
          "data": {
            "text/plain": [
              "(221, b'2.0.0 closing connection d65sm7097245pfc.97 - gsmtp')"
            ]
          },
          "metadata": {
            "tags": []
          },
          "execution_count": 8
        }
      ]
    },
    {
      "cell_type": "code",
      "metadata": {
        "id": "-_gWLIPhrb0R",
        "colab_type": "code",
        "colab": {}
      },
      "source": [
        ""
      ],
      "execution_count": null,
      "outputs": []
    }
  ]
}
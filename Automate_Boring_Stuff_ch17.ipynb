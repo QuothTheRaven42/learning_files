{
  "nbformat": 4,
  "nbformat_minor": 0,
  "metadata": {
    "colab": {
      "name": "Automate_Boring_Stuff_ch17.ipynb",
      "provenance": [],
      "collapsed_sections": [],
      "authorship_tag": "ABX9TyP+Hy1J6OagHpCyCTop4Tx+",
      "include_colab_link": true
    },
    "kernelspec": {
      "name": "python3",
      "display_name": "Python 3"
    }
  },
  "cells": [
    {
      "cell_type": "markdown",
      "metadata": {
        "id": "view-in-github",
        "colab_type": "text"
      },
      "source": [
        "<a href=\"https://colab.research.google.com/github/QuothTheRaven42/learning_files/blob/master/Automate_Boring_Stuff_ch17.ipynb\" target=\"_parent\"><img src=\"https://colab.research.google.com/assets/colab-badge.svg\" alt=\"Open In Colab\"/></a>"
      ]
    },
    {
      "cell_type": "code",
      "metadata": {
        "id": "SOuYTp6YSRjo",
        "colab_type": "code",
        "colab": {}
      },
      "source": [
        "## https://automatetheboringstuff.com/chapter17/\n",
        "## GUI Automation\n",
        "\n",
        "# library for controlling the mouse cursor\n",
        "import pyautogui\n",
        "\n",
        "# returns current screen size\n",
        "width, height = pyautogui.size()\n",
        "print(width, height)\n",
        "\n",
        "# returns current location of cursor\n",
        "print(pyautogui.position())\n",
        "\n",
        "# moving cursor to specific location\n",
        "pyautogui.moveTo(10, 10, duration=1)\n",
        "moving cursor relative to it's current position\n",
        "pyautogui.moveRel(200, 100, duration=1)\n",
        "\n",
        "# use .position() to choose coord's for clicks\n",
        "pyautogui.click(547,20)\n",
        "pyautogui.click(630,60)\n",
        "pyautogui.click(1141,587,duration=.5)\n",
        "\n",
        "# double, middle, or right click at coord's\n",
        "pyautogui.doubleClick(100, 100)\n",
        "pyautogui.rightClick(100,100)\n",
        "pyautogui.middleClick(100,100)\n",
        "\n",
        "# if you lose control of computer, move cursor to upper left\n",
        "# it will raise an exception if the cursor is found located there\n",
        "# to disable this fail-safe, set pyautogui.FAILSAFE to False\n",
        "\n",
        "# for real-time display of cursor position and RGB value of current pixel\n",
        "# run from terminal for correct display of output\n",
        "\n",
        "## Controlling the Keyboard with pyautogui\n",
        "\n",
        "# keypresses happen in focused window\n",
        "pyautogui.click(893,72)\n",
        "pyautogui.typewrite('hello, world', interval=.1)\n",
        "\n",
        "# list of key names for pyautogui\n",
        "print(pyautogui.KEYBOARD_KEYS)\n",
        "\n",
        "# pressing F1\n",
        "pyautogui.press('f1')\n",
        "\n",
        "# pressing hotkey combinations\n",
        "print(pyautogui.hotkey('ctrl','alt','s'))\n",
        "\n",
        "## Screenshots and Image Recognition\n",
        "\n",
        "# returns pillow object to filename\n",
        "pyautogui.screenshot('image.png')\n",
        "\n",
        "# locating coord's of an image on screen\n",
        "# image must be pixel perfect match\n",
        "print(pyautogui.locateOnScreen('image.png'))\n",
        "\n",
        "# locate center of the location of the image on screen\n",
        "print(pyautogui.locateCenterOnScreen('image.png'))\n",
        "pyautogui.click((pyautogui.locateCenterOnScreen('image.png')))\n",
        "# click happens automatically if coord's are in a tuple\n"
      ],
      "execution_count": null,
      "outputs": []
    }
  ]
}
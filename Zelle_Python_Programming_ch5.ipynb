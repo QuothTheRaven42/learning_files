{
  "nbformat": 4,
  "nbformat_minor": 0,
  "metadata": {
    "colab": {
      "name": "Zelle_Python_Programming_ch5.ipynb",
      "provenance": [],
      "collapsed_sections": [],
      "authorship_tag": "ABX9TyOcEEdHR+PCFUpQXdildMgy",
      "include_colab_link": true
    },
    "kernelspec": {
      "name": "python3",
      "display_name": "Python 3"
    }
  },
  "cells": [
    {
      "cell_type": "markdown",
      "metadata": {
        "id": "view-in-github",
        "colab_type": "text"
      },
      "source": [
        "<a href=\"https://colab.research.google.com/github/QuothTheRaven42/learning_files/blob/master/Zelle_Python_Programming_ch5.ipynb\" target=\"_parent\"><img src=\"https://colab.research.google.com/assets/colab-badge.svg\" alt=\"Open In Colab\"/></a>"
      ]
    },
    {
      "cell_type": "code",
      "metadata": {
        "id": "WdypNmG0CY8E",
        "colab_type": "code",
        "colab": {
          "base_uri": "https://localhost:8080/",
          "height": 35
        },
        "outputId": "1f06d633-a6a1-49c3-d161-49555bd63092"
      },
      "source": [
        "def acronym(words):\n",
        "    # returns first letter of each word capitalized\n",
        "    return ''.join([letter[0] for letter in words.upper().split()])\n",
        "\n",
        "print(acronym('random access memory]'))"
      ],
      "execution_count": 7,
      "outputs": [
        {
          "output_type": "stream",
          "text": [
            "RAM\n"
          ],
          "name": "stdout"
        }
      ]
    },
    {
      "cell_type": "code",
      "metadata": {
        "id": "wjMduYh7Ccfc",
        "colab_type": "code",
        "colab": {
          "base_uri": "https://localhost:8080/",
          "height": 35
        },
        "outputId": "1388319f-4983-41a1-a7da-cab6bf3d2dd6"
      },
      "source": [
        "alpha = ' abcdefghijklmnopqrstuvwxyz'\n",
        "numeric = range(27)\n",
        "alphanumeric = dict(zip(alpha, numeric))\n",
        "\n",
        "def num_value(name):\n",
        "    # adding based on letters in name\n",
        "    total = 0\n",
        "    for letter in ' '.join(name):\n",
        "        total += alphanumeric[letter.lower()]\n",
        "    return total\n",
        "\n",
        "print(num_value('John David Bankson'))"
      ],
      "execution_count": 2,
      "outputs": [
        {
          "output_type": "stream",
          "text": [
            "163\n"
          ],
          "name": "stdout"
        }
      ]
    },
    {
      "cell_type": "code",
      "metadata": {
        "id": "NS75EJmvChkU",
        "colab_type": "code",
        "colab": {
          "base_uri": "https://localhost:8080/",
          "height": 52
        },
        "outputId": "f98c2f98-620e-4165-d27d-9e207814de7c"
      },
      "source": [
        "def encode(words):\n",
        "    return ''.join([chr(ord(word)+1) for word in words])\n",
        "def decode(cypher):\n",
        "    return ''.join([chr(ord(word)-1) for word in cypher])\n",
        "\n",
        "print(encode('David'))\n",
        "print(decode(encode('David')))"
      ],
      "execution_count": 3,
      "outputs": [
        {
          "output_type": "stream",
          "text": [
            "Ebwje\n",
            "David\n"
          ],
          "name": "stdout"
        }
      ]
    },
    {
      "cell_type": "code",
      "metadata": {
        "id": "rmwbaem5CoZa",
        "colab_type": "code",
        "colab": {
          "base_uri": "https://localhost:8080/",
          "height": 35
        },
        "outputId": "c8cfc774-79d3-4202-eeef-aa627f335f26"
      },
      "source": [
        "def count_words(sentence):\n",
        "    return len([word for word in sentence.split(' ')])\n",
        "\n",
        "print(count_words('hello there world how are you'))"
      ],
      "execution_count": 4,
      "outputs": [
        {
          "output_type": "stream",
          "text": [
            "6\n"
          ],
          "name": "stdout"
        }
      ]
    },
    {
      "cell_type": "code",
      "metadata": {
        "id": "cG9CZZG5CrQZ",
        "colab_type": "code",
        "colab": {
          "base_uri": "https://localhost:8080/",
          "height": 35
        },
        "outputId": "4ea5973a-0703-482d-95d9-3e12a2654c09"
      },
      "source": [
        "def avg_word_len(sentence):\n",
        "    return round(sum(len(word) for word in sentence.split(' ')) / len(sentence.split(' ')))\n",
        "\n",
        "print(avg_word_len('hello there world how are you doing this fine day'))"
      ],
      "execution_count": 5,
      "outputs": [
        {
          "output_type": "stream",
          "text": [
            "4\n"
          ],
          "name": "stdout"
        }
      ]
    },
    {
      "cell_type": "code",
      "metadata": {
        "id": "yr4RiaqXCtuc",
        "colab_type": "code",
        "colab": {
          "base_uri": "https://localhost:8080/",
          "height": 284
        },
        "outputId": "18875bbd-ee95-4b7d-e574-4d547d994732"
      },
      "source": [
        "def investment():\n",
        "    investing = float(input('amount investing: '))\n",
        "    interest = float(input('interest rate: '))\n",
        "    years = int(input('years for investment: '))\n",
        "    total = list()\n",
        "    total.append(str(investing))\n",
        "    for amount in range(years-1):\n",
        "        investing += investing * (interest/100)\n",
        "        total.append(str(round(investing, 2)))\n",
        "\n",
        "    max_len = max(len(i)+5 for i in total)\n",
        "    print('Year     Value\\n------------')\n",
        "    for key, item in enumerate(total):\n",
        "        print(key, '{0:>{1}}'.format(item, max_len))\n",
        "\n",
        "investment()"
      ],
      "execution_count": 6,
      "outputs": [
        {
          "output_type": "stream",
          "text": [
            "amount investing: 200\n",
            "interest rate: 8.9\n",
            "years for investment: 10\n",
            "Year     Value\n",
            "------------\n",
            "0       200.0\n",
            "1       217.8\n",
            "2      237.18\n",
            "3      258.29\n",
            "4      281.28\n",
            "5      306.32\n",
            "6      333.58\n",
            "7      363.27\n",
            "8       395.6\n",
            "9      430.81\n"
          ],
          "name": "stdout"
        }
      ]
    },
    {
      "cell_type": "code",
      "metadata": {
        "id": "gTNPAIFuCuMt",
        "colab_type": "code",
        "colab": {}
      },
      "source": [
        ""
      ],
      "execution_count": 6,
      "outputs": []
    }
  ]
}
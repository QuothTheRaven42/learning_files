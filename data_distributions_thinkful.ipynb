{
  "nbformat": 4,
  "nbformat_minor": 0,
  "metadata": {
    "colab": {
      "name": "data_distributions_module4-2.ipynb",
      "provenance": [],
      "collapsed_sections": []
    },
    "kernelspec": {
      "name": "python3",
      "display_name": "Python 3"
    }
  },
  "cells": [
    {
      "cell_type": "markdown",
      "metadata": {
        "id": "Zq0uogWvR16_",
        "colab_type": "text"
      },
      "source": [
        "# **Assignment**\n",
        "To complete the following drills, you'll need to use your Python skills to create some datasets, then use your new statistical knowledge to summarize them. Choose 6 distributions from the list of random distributions available in NumPy, called \"Distributions\".\n",
        "\n",
        "**For each distribution:**\n",
        "\n",
        "-Generate a random variable with 100 datapoints using the code distributionvar = np.random.distributionname([arguments], 100), replacing distributionvar with an appropriate variable name and distributionname with the name of the distribution you’ve chosen, and filling in the empty space in the parentheses with your chosen values for the appropriate parameters. If you feel uncertain about how to do this, go back to the “Other Distributions” assignment for examples of code to use as a starting point.\n",
        "\n",
        "-Graph the variable using a histogram.\n",
        "\n",
        "-Compute the mean and standard deviation and plot them as vertical lines on the histogram.\n",
        "\n",
        "-Evaluate whether the descriptive statistics provided useful information about the variable. Can you identify any common characteristics of the distributions that could be usefully described using the mean and/or standard deviation?\n",
        "\n",
        "**Additionally:**\n",
        "\n",
        "-Generate two normally-distributed variables, one with a mean of 5 and standard deviation of 0.5, and the other with a mean of 10 and a standard deviation of 1.\n",
        "\n",
        "-Add them together to create a third variable.\n",
        "\n",
        "-Graph the third variable using a histogram.\n",
        "\n",
        "-Compute the mean and standard deviation and plot them as vertical lines on the histogram.\n",
        "\n",
        "-Evaluate the descriptive statistics against the data."
      ]
    },
    {
      "cell_type": "code",
      "metadata": {
        "id": "7ai_QCanVKQb",
        "colab_type": "code",
        "colab": {}
      },
      "source": [
        "import numpy as np\n",
        "import pandas as pd\n",
        "import matplotlib.pyplot as plt\n"
      ],
      "execution_count": 1,
      "outputs": []
    },
    {
      "cell_type": "code",
      "metadata": {
        "id": "ZF5JIDcVQ6xi",
        "colab_type": "code",
        "colab": {
          "base_uri": "https://localhost:8080/",
          "height": 265
        },
        "outputId": "abd238f5-af96-4a18-ca2e-6a9d672c70f9"
      },
      "source": [
        "# variable obtained by summing squares of independent, normally distributed, random variables\n",
        "\n",
        "chi = np.random.chisquare(10, 10000)\n",
        "plt.hist(chi, bins=55)\n",
        "\n",
        "# Add a vertical line at the mean.\n",
        "plt.axvline(chi.mean(), color='b', linestyle='solid', linewidth=2)\n",
        "# Add a vertical line at one standard deviation above the mean.\n",
        "plt.axvline(chi.mean() + chi.std(), color='b', linestyle='dashed', linewidth=2)\n",
        "# Add a vertical line at one standard deviation below the mean.\n",
        "plt.axvline(chi.mean()-chi.std(), color='b', linestyle='dashed', linewidth=2) \n",
        "\n",
        "plt.show()\n",
        "\n",
        "# the mean and std are only slightly indicative of the shape of the data"
      ],
      "execution_count": 33,
      "outputs": [
        {
          "output_type": "display_data",
          "data": {
            "image/png": "[encoded data removed]",
            "text/plain": [
              "<Figure size 432x288 with 1 Axes>"
            ]
          },
          "metadata": {
            "tags": [],
            "needs_background": "light"
          }
        }
      ]
    },
    {
      "cell_type": "code",
      "metadata": {
        "id": "BxoEoQOdUDgH",
        "colab_type": "code",
        "colab": {
          "base_uri": "https://localhost:8080/",
          "height": 283
        },
        "outputId": "6b0b2336-a744-4bd6-f876-25af0c49ae94"
      },
      "source": [
        "# Draw samples from the Laplace or double exponential distribution \n",
        "# with specified location (or mean) and scale (decay)\n",
        "# laplace([loc, scale, size])\n",
        "\n",
        "lap = np.random.laplace(0, 1, 10000)\n",
        "count, bins, _ = plt.hist(lap, bins=45)\n",
        "x = np.arange(-8., 8., .01)\n",
        "\n",
        "plt.axvline(lap.mean(), color='b', linestyle='solid', linewidth=2)\n",
        "plt.axvline(lap.mean() + lap.std(), color='b', linestyle='dashed', linewidth=2)\n",
        "plt.axvline(lap.mean()-lap.std(), color='b', linestyle='dashed', linewidth=2) \n",
        "\n",
        "plt.plot()\n",
        "\n",
        "# the mean and std are very indicative of the shape of the data"
      ],
      "execution_count": 31,
      "outputs": [
        {
          "output_type": "execute_result",
          "data": {
            "text/plain": [
              "[]"
            ]
          },
          "metadata": {
            "tags": []
          },
          "execution_count": 31
        },
        {
          "output_type": "display_data",
          "data": {
            "image/png": "[encoded data removed]",
            "text/plain": [
              "<Figure size 432x288 with 1 Axes>"
            ]
          },
          "metadata": {
            "tags": [],
            "needs_background": "light"
          }
        }
      ]
    },
    {
      "cell_type": "code",
      "metadata": {
        "id": "OB_JVEFvUDHU",
        "colab_type": "code",
        "colab": {
          "base_uri": "https://localhost:8080/",
          "height": 265
        },
        "outputId": "98d7e0d7-b1ab-4c0a-b934-6ceef54a9778"
      },
      "source": [
        "# Draw samples from the triangular distribution over the interval [left, right]\n",
        "# triangular(left, mode, right[, size])\n",
        "\n",
        "tri = (np.random.triangular(-3, 0, 8, size=10000))\n",
        "plt.hist(tri, bins=35)\n",
        "\n",
        "plt.axvline(tri.mean(), color='b', linestyle='solid', linewidth=2)\n",
        "plt.axvline(tri.mean() + tri.std(), color='b', linestyle='dashed', linewidth=2)\n",
        "plt.axvline(tri.mean()-tri.std(), color='b', linestyle='dashed', linewidth=2)\n",
        "\n",
        "plt.show()\n",
        "\n",
        "# the mean and std are not very indicative of the shape of this data"
      ],
      "execution_count": 29,
      "outputs": [
        {
          "output_type": "display_data",
          "data": {
            "image/png": "[encoded data removed]",
            "text/plain": [
              "<Figure size 432x288 with 1 Axes>"
            ]
          },
          "metadata": {
            "tags": [],
            "needs_background": "light"
          }
        }
      ]
    },
    {
      "cell_type": "code",
      "metadata": {
        "id": "x3ogr8l67d4D",
        "colab_type": "code",
        "colab": {}
      },
      "source": [
        ""
      ],
      "execution_count": 4,
      "outputs": []
    },
    {
      "cell_type": "code",
      "metadata": {
        "id": "oJLMdFP_UCxj",
        "colab_type": "code",
        "colab": {
          "base_uri": "https://localhost:8080/",
          "height": 265
        },
        "outputId": "3cd7d3b4-a8a7-4051-829c-1a10239e30bd"
      },
      "source": [
        "# Draw samples from a Pareto II or Lomax distribution with specified shape.\n",
        "# pareto(a[, size])\n",
        "\n",
        "a, m = 3., 2.  # shape and mode\n",
        "par = np.random.pareto(a, size=10000)\n",
        "count, bins, _ = plt.hist(par, bins=55)\n",
        "\n",
        "plt.axvline(par.mean(), color='b', linestyle='solid', linewidth=2)\n",
        "plt.axvline(par.mean() + par.std(), color='b', linestyle='dashed', linewidth=2)\n",
        "plt.axvline(par.mean()-par.std(), color='b', linestyle='dashed', linewidth=2)\n",
        "\n",
        "plt.show()\n",
        "\n",
        "# the mean and standard deviation of indicative of the shape of the data"
      ],
      "execution_count": 24,
      "outputs": [
        {
          "output_type": "display_data",
          "data": {
            "image/png": "[encoded data removed]",
            "text/plain": [
              "<Figure size 432x288 with 1 Axes>"
            ]
          },
          "metadata": {
            "tags": [],
            "needs_background": "light"
          }
        }
      ]
    },
    {
      "cell_type": "code",
      "metadata": {
        "id": "KlmlTjhgUCMB",
        "colab_type": "code",
        "colab": {
          "base_uri": "https://localhost:8080/",
          "height": 265
        },
        "outputId": "a486fff7-5b1c-46c1-f39e-8b6d59ccff8b"
      },
      "source": [
        "# Draw samples from the geometric distribution.\n",
        "# geometric(p[, size])\n",
        "\n",
        "geo = np.random.geometric(p=0.35, size=10000)\n",
        "\n",
        "count, bins, _ = plt.hist(geo, bins=20)\n",
        "plt.plot()\n",
        "\n",
        "plt.axvline(geo.mean(), color='b', linestyle='solid', linewidth=2)\n",
        "plt.axvline(geo.mean() + geo.std(), color='b', linestyle='dashed', linewidth=2)\n",
        "plt.axvline(geo.mean()-geo.std(), color='b', linestyle='dashed', linewidth=2)\n",
        "\n",
        "plt.show()\n",
        "\n",
        "# the mean and standard deviation are slightly inidicative of the shape of the data"
      ],
      "execution_count": 27,
      "outputs": [
        {
          "output_type": "display_data",
          "data": {
            "image/png": "[encoded data removed]",
            "text/plain": [
              "<Figure size 432x288 with 1 Axes>"
            ]
          },
          "metadata": {
            "tags": [],
            "needs_background": "light"
          }
        }
      ]
    },
    {
      "cell_type": "code",
      "metadata": {
        "id": "yEnwOiJcUBRX",
        "colab_type": "code",
        "colab": {
          "base_uri": "https://localhost:8080/",
          "height": 265
        },
        "outputId": "5bd4201e-9293-4ca3-fe0d-58a9e7a09909"
      },
      "source": [
        "# Draw samples from a Rayleigh distribution.\n",
        "# rayleigh([scale, size])\n",
        "\n",
        "ray = np.random.rayleigh(100, size=10000)\n",
        "plt.hist(ray, bins=55)\n",
        "\n",
        "plt.axvline(ray.mean(), color='b', linestyle='solid', linewidth=2)\n",
        "plt.axvline(ray.mean() + ray.std(), color='b', linestyle='dashed', linewidth=2)\n",
        "plt.axvline(ray.mean()-ray.std(), color='b', linestyle='dashed', linewidth=2)\n",
        "\n",
        "plt.show()\n",
        "\n",
        "# the mean and standard deviation are mostly indicative of the shape of the data"
      ],
      "execution_count": 20,
      "outputs": [
        {
          "output_type": "display_data",
          "data": {
            "image/png": "[encoded data removed]",
            "text/plain": [
              "<Figure size 432x288 with 1 Axes>"
            ]
          },
          "metadata": {
            "tags": [],
            "needs_background": "light"
          }
        }
      ]
    },
    {
      "cell_type": "markdown",
      "metadata": {
        "id": "WDKzk43DJEMx",
        "colab_type": "text"
      },
      "source": [
        "Generate two normally-distributed variables\n",
        "\n",
        "one with a mean of 5 and standard deviation of 0.5\n",
        "\n",
        "and the other with a mean of 10 and a standard deviation of 1."
      ]
    },
    {
      "cell_type": "code",
      "metadata": {
        "id": "D9Zkb2T13WK7",
        "colab_type": "code",
        "colab": {}
      },
      "source": [
        "norm = np.random.normal(loc=5, scale=.5, size=10000)\n",
        "norm_1 = np.random.normal(loc=10, scale=1, size=10000)\n",
        "\n",
        "# plt.hist(norm_1, bins=35)\n",
        "# plt.hist(norm_2, bins=35)"
      ],
      "execution_count": 49,
      "outputs": []
    },
    {
      "cell_type": "markdown",
      "metadata": {
        "id": "74txWj3zKZRS",
        "colab_type": "text"
      },
      "source": [
        "Add them together to create a third variable.\n",
        "\n",
        "Graph the third variable using a histogram.\n",
        "\n",
        "Compute the mean and standard deviation and plot them as vertical lines on the histogram."
      ]
    },
    {
      "cell_type": "code",
      "metadata": {
        "id": "NjITv-YdJnMw",
        "colab_type": "code",
        "colab": {
          "base_uri": "https://localhost:8080/",
          "height": 265
        },
        "outputId": "45d44f9a-da68-4e5f-9fe6-aaaaf3a7d361"
      },
      "source": [
        "norm += norm_1\n",
        "plt.hist(norm, bins=35)\n",
        "\n",
        "plt.axvline(norm.mean(), color='b', linestyle='solid', linewidth=2)\n",
        "plt.axvline(norm.mean() + norm.std(), color='b', linestyle='dashed', linewidth=2)\n",
        "plt.axvline(norm.mean()-norm.std(), color='b', linestyle='dashed', linewidth=2)\n",
        "\n",
        "plt.show()\n",
        "# the mean and standard deviation are very indicative of the shape of the data"
      ],
      "execution_count": 50,
      "outputs": [
        {
          "output_type": "display_data",
          "data": {
            "image/png": "[encoded data removed]",
            "text/plain": [
              "<Figure size 432x288 with 1 Axes>"
            ]
          },
          "metadata": {
            "tags": [],
            "needs_background": "light"
          }
        }
      ]
    },
    {
      "cell_type": "code",
      "metadata": {
        "id": "-jWIOJP_Kbxw",
        "colab_type": "code",
        "colab": {}
      },
      "source": [
        ""
      ],
      "execution_count": null,
      "outputs": []
    }
  ]
}
{
  "nbformat": 4,
  "nbformat_minor": 0,
  "metadata": {
    "colab": {
      "name": "api_with_dataquest.ipynb",
      "provenance": [],
      "collapsed_sections": []
    },
    "kernelspec": {
      "name": "python3",
      "display_name": "Python 3"
    }
  },
  "cells": [
    {
      "cell_type": "markdown",
      "metadata": {
        "id": "YedfgdObVU65",
        "colab_type": "text"
      },
      "source": [
        "## API practice"
      ]
    },
    {
      "cell_type": "code",
      "metadata": {
        "id": "4d5ByY0Ltwg-",
        "colab_type": "code",
        "colab": {}
      },
      "source": [
        "import requests"
      ],
      "execution_count": 2,
      "outputs": []
    },
    {
      "cell_type": "code",
      "metadata": {
        "id": "dTBjQ8bSVRux",
        "colab_type": "code",
        "colab": {}
      },
      "source": [
        "# requests.get retrieves data\n",
        "# endpoint is the server\n",
        "# get request for latest position of ISS\n",
        "url = \"http://api.open-notify.org/iss-now.json\"\n",
        "response = requests.get(url)"
      ],
      "execution_count": 3,
      "outputs": []
    },
    {
      "cell_type": "markdown",
      "metadata": {
        "id": "8ioY_OBN3k-H",
        "colab_type": "text"
      },
      "source": [
        "# Status Codes:\n",
        "\n",
        "\n",
        "\n",
        "*   200 - OK\n",
        "*   301 - redirecting endpoint\n",
        "*   400 - bad request\n",
        "*   401 - bad credentials\n",
        "*   403 - access denied\n",
        "*   404 - not found"
      ]
    },
    {
      "cell_type": "code",
      "metadata": {
        "id": "g4az8v31tty9",
        "colab_type": "code",
        "colab": {
          "base_uri": "https://localhost:8080/",
          "height": 35
        },
        "outputId": "24a0a49a-593d-44e3-ea69-790aa613987d"
      },
      "source": [
        "print(response.status_code)"
      ],
      "execution_count": 4,
      "outputs": [
        {
          "output_type": "stream",
          "text": [
            "200\n"
          ],
          "name": "stdout"
        }
      ]
    },
    {
      "cell_type": "markdown",
      "metadata": {
        "id": "LTCLai6u4RpE",
        "colab_type": "text"
      },
      "source": [
        "# params keywords:\n",
        "\n",
        "*   returns a dictionary\n",
        "*   pass that into requests.get()\n",
        "\n"
      ]
    },
    {
      "cell_type": "code",
      "metadata": {
        "id": "v9jeF03tt2fc",
        "colab_type": "code",
        "colab": {
          "base_uri": "https://localhost:8080/",
          "height": 72
        },
        "outputId": "bc6849eb-0e08-4253-9fbd-bd028a080691"
      },
      "source": [
        "# set up params for API\n",
        "# in this case, latitude and longitude of NYC\n",
        "parameters = {'lat': 40.71, 'lon': -74}\n",
        "\n",
        "# get request with params\n",
        "response = requests.get(url, params=parameters)\n",
        "\n",
        "# show data returned from server\n",
        "print(response)\n",
        "print(response.content)"
      ],
      "execution_count": 15,
      "outputs": [
        {
          "output_type": "stream",
          "text": [
            "<Response [200]>\n",
            "b'{\"message\": \"success\", \"number\": 5, \"people\": [{\"craft\": \"ISS\", \"name\": \"Chris Cassidy\"}, {\"craft\": \"ISS\", \"name\": \"Anatoly Ivanishin\"}, {\"craft\": \"ISS\", \"name\": \"Ivan Vagner\"}, {\"craft\": \"ISS\", \"name\": \"Doug Hurley\"}, {\"craft\": \"ISS\", \"name\": \"Bob Behnken\"}]}'\n"
          ],
          "name": "stdout"
        }
      ]
    },
    {
      "cell_type": "markdown",
      "metadata": {
        "id": "Moid2oL4x-Ff",
        "colab_type": "text"
      },
      "source": [
        "## JSON:\n",
        "*   JavaScript Object Notation\n",
        "*   encodes things like lists and dictionaries into strings\n",
        "*   json package is built into Python\n",
        "*   Two primary methods: \n",
        "> *   dumps - Python object into a string\n",
        "> *   loads - string into a Python object\n",
        "\n",
        "## example of JSON dumps and loads"
      ]
    },
    {
      "cell_type": "code",
      "metadata": {
        "id": "9akV2wLswYut",
        "colab_type": "code",
        "colab": {
          "base_uri": "https://localhost:8080/",
          "height": 52
        },
        "outputId": "0c6b3ec6-9ec5-4494-8c6b-ee34c1a541ff"
      },
      "source": [
        "# list of fast food chains\n",
        "best_food_chains = ['Taco Bell', 'Arbys', 'Sonic Drive-in', 'McDonalds', 'Dominos Pizza']\n",
        "\n",
        "import json\n",
        "\n",
        "# use json.dumps to convert the python object into a string\n",
        "best_food_chains_string = json.dumps(best_food_chains)\n",
        "\n",
        "# convert back into a list\n",
        "print(type(json.loads(best_food_chains_string)))\n",
        "\n",
        "# make a dictionary\n",
        "fast_food_franchise = {'Subway': 24722,\n",
        "                      'Wendys': 14098,\n",
        "                      'Burger King': 10821,\n",
        "                      'Starbucks': 7600}\n",
        "\n",
        "# can dump a dictionary to a string in order to then load it\n",
        "fast_food_franchise_string = json.dumps(fast_food_franchise)\n",
        "print(type(best_food_chains_string)"
      ],
      "execution_count": 7,
      "outputs": [
        {
          "output_type": "stream",
          "text": [
            "<class 'list'>\n",
            "<class 'str'>\n"
          ],
          "name": "stdout"
        }
      ]
    },
    {
      "cell_type": "markdown",
      "metadata": {
        "id": "3JbiWwStzkGl",
        "colab_type": "text"
      },
      "source": [
        "## back to the ISS locations"
      ]
    },
    {
      "cell_type": "code",
      "metadata": {
        "id": "bWpT9GPAzUXi",
        "colab_type": "code",
        "colab": {
          "base_uri": "https://localhost:8080/",
          "height": 52
        },
        "outputId": "26ebc575-d736-4600-b0ef-66be2e343dbb"
      },
      "source": [
        "# same as before, but with San Francisco coordinates\n",
        "parameters = {'lat': 37.78, 'lon': -122.41}\n",
        "\n",
        "# turn response data into python object, verify type\n",
        "data = response.json()\n",
        "print(type(data))\n",
        "print(data)"
      ],
      "execution_count": 8,
      "outputs": [
        {
          "output_type": "stream",
          "text": [
            "<class 'dict'>\n",
            "{'message': 'success', 'timestamp': 1595291056, 'iss_position': {'latitude': '26.5240', 'longitude': '-100.9882'}}\n"
          ],
          "name": "stdout"
        }
      ]
    },
    {
      "cell_type": "markdown",
      "metadata": {
        "id": "Je9mdcAB5UvR",
        "colab_type": "text"
      },
      "source": [
        "## Response from server also contains metadata in 'headers' property\n",
        "## it's always a dictionary so you can access specific keys\n",
        "## ['content-type'] key shows the format of the response & how to encode it"
      ]
    },
    {
      "cell_type": "code",
      "metadata": {
        "id": "c4r0Qvcmz-Eo",
        "colab_type": "code",
        "colab": {
          "base_uri": "https://localhost:8080/",
          "height": 72
        },
        "outputId": "abc95585-dbc7-4298-c527-383a071b1cbf"
      },
      "source": [
        "# headers is a dictionary\n",
        "print(response.headers)\n",
        "\n",
        "# get content-type from dictionary\n",
        "print(response.headers['content-type'])"
      ],
      "execution_count": 9,
      "outputs": [
        {
          "output_type": "stream",
          "text": [
            "{'Server': 'nginx/1.10.3', 'Date': 'Tue, 21 Jul 2020 00:24:16 GMT', 'Content-Type': 'application/json', 'Content-Length': '114', 'Connection': 'keep-alive', 'access-control-allow-origin': '*'}\n",
            "application/json\n"
          ],
          "name": "stdout"
        }
      ]
    },
    {
      "cell_type": "code",
      "metadata": {
        "id": "M1WmQjbK0AAD",
        "colab_type": "code",
        "colab": {
          "base_uri": "https://localhost:8080/",
          "height": 72
        },
        "outputId": "4140d12b-6b60-465e-b516-61a4ae70730a"
      },
      "source": [
        "# get response from endpoint\n",
        "url = \"http://api.open-notify.org/astros.json\"\n",
        "response = requests.get(url)\n",
        "data = response.json()\n",
        "\n",
        "print(data['number'])\n",
        "print(data)\n",
        "# 5 people currently in space"
      ],
      "execution_count": 14,
      "outputs": [
        {
          "output_type": "stream",
          "text": [
            "5\n",
            "{'message': 'success', 'number': 5, 'people': [{'craft': 'ISS', 'name': 'Chris Cassidy'}, {'craft': 'ISS', 'name': 'Anatoly Ivanishin'}, {'craft': 'ISS', 'name': 'Ivan Vagner'}, {'craft': 'ISS', 'name': 'Doug Hurley'}, {'craft': 'ISS', 'name': 'Bob Behnken'}]}\n"
          ],
          "name": "stdout"
        }
      ]
    },
    {
      "cell_type": "markdown",
      "metadata": {
        "id": "qp2wdIhtz_pr",
        "colab_type": "text"
      },
      "source": [
        ""
      ]
    }
  ]
}
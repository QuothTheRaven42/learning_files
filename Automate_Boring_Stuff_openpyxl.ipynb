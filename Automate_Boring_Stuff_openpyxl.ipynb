{
  "nbformat": 4,
  "nbformat_minor": 0,
  "metadata": {
    "colab": {
      "name": "Automate_Boring_Stuff_openpyxl.ipynb",
      "provenance": [],
      "collapsed_sections": [],
      "authorship_tag": "ABX9TyM983UCvmZI7twpgk90p4PG",
      "include_colab_link": true
    },
    "kernelspec": {
      "name": "python3",
      "display_name": "Python 3"
    }
  },
  "cells": [
    {
      "cell_type": "markdown",
      "metadata": {
        "id": "view-in-github",
        "colab_type": "text"
      },
      "source": [
        "<a href=\"https://colab.research.google.com/github/QuothTheRaven42/learning_files/blob/master/Automate_Boring_Stuff_openpyxl.ipynb\" target=\"_parent\"><img src=\"https://colab.research.google.com/assets/colab-badge.svg\" alt=\"Open In Colab\"/></a>"
      ]
    },
    {
      "cell_type": "code",
      "metadata": {
        "id": "KcmAZFsTlgNQ",
        "colab_type": "code",
        "colab": {}
      },
      "source": [
        "import openpyxl\n",
        "\n"
      ],
      "execution_count": 1,
      "outputs": []
    },
    {
      "cell_type": "code",
      "metadata": {
        "id": "r-du6I_9lmy8",
        "colab_type": "code",
        "colab": {
          "base_uri": "https://localhost:8080/",
          "height": 52
        },
        "outputId": "e4885451-c9ba-48e1-bcd6-0e589bfce205"
      },
      "source": [
        "workbook = openpyxl.load_workbook('example.xlsx') # returns workbook object\n",
        "sheet = workbook['Sheet1'] # returns a worksheet object\n",
        "print(workbook.sheetnames)\n",
        "cell = sheet['A1'] # returns a cell object\n",
        "print(sheet['A1'].value) # returns value of cell object of type from Excel\n"
      ],
      "execution_count": 2,
      "outputs": [
        {
          "output_type": "stream",
          "text": [
            "['Sheet1', 'Sheet2', 'Sheet3']\n",
            "2015-04-05 13:34:02\n"
          ],
          "name": "stdout"
        }
      ]
    },
    {
      "cell_type": "code",
      "metadata": {
        "id": "-VuFD5J8lpXL",
        "colab_type": "code",
        "colab": {
          "base_uri": "https://localhost:8080/",
          "height": 159
        },
        "outputId": "97cbd27f-2778-4764-de6d-56405285e91b"
      },
      "source": [
        "print(sheet.cell(row=1, column=2).value) # count starts at 1, not 0\n",
        "# column 2 is B column\n",
        "# in place of sheet['B1'] for the following instances:\n",
        "for i in range(1,8):\n",
        "   print(i, sheet.cell(row=i, column=2).value)\n",
        "\n"
      ],
      "execution_count": 3,
      "outputs": [
        {
          "output_type": "stream",
          "text": [
            "Apples\n",
            "1 Apples\n",
            "2 Cherries\n",
            "3 Pears\n",
            "4 Oranges\n",
            "5 Apples\n",
            "6 Bananas\n",
            "7 Strawberries\n"
          ],
          "name": "stdout"
        }
      ]
    },
    {
      "cell_type": "code",
      "metadata": {
        "id": "tp4mFGxzl4hn",
        "colab_type": "code",
        "colab": {
          "base_uri": "https://localhost:8080/",
          "height": 35
        },
        "outputId": "eebbadfb-7283-4d1e-abee-fdcfa1f44520"
      },
      "source": [
        "wb = openpyxl.Workbook()\n",
        "sheet = wb['Sheet']\n",
        "print(sheet['A1'].value == None)\n",
        "sheet['A1'] = 42 # saved in memory, not spreadsheet\n",
        "sheet['A2'] = 'Hello'"
      ],
      "execution_count": 4,
      "outputs": [
        {
          "output_type": "stream",
          "text": [
            "True\n"
          ],
          "name": "stdout"
        }
      ]
    },
    {
      "cell_type": "code",
      "metadata": {
        "id": "poz3_K8ImMVM",
        "colab_type": "code",
        "colab": {
          "base_uri": "https://localhost:8080/",
          "height": 70
        },
        "outputId": "b7708f12-c98b-4095-e105-42c66c4617e2"
      },
      "source": [
        "wb.save('example2.xlsx') # save current data to given name\n",
        "# adds new worksheet object and returns it\n",
        "sheet2 = wb.create_sheet() # adds new sheet to end of sheets unless passed index\n",
        "print(wb.sheetnames) # nothing changed\n",
        "print(sheet2.title) # 'Sheet1'\n",
        "sheet2.title = 'My New Sheet Name'\n",
        "print(wb.sheetnames)"
      ],
      "execution_count": 5,
      "outputs": [
        {
          "output_type": "stream",
          "text": [
            "['Sheet', 'Sheet1']\n",
            "Sheet1\n",
            "['Sheet', 'My New Sheet Name']\n"
          ],
          "name": "stdout"
        }
      ]
    },
    {
      "cell_type": "code",
      "metadata": {
        "id": "vAtwEBvjmOu9",
        "colab_type": "code",
        "colab": {}
      },
      "source": [
        ""
      ],
      "execution_count": 5,
      "outputs": []
    }
  ]
}
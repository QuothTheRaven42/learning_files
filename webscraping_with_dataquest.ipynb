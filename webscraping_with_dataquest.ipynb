{
  "nbformat": 4,
  "nbformat_minor": 0,
  "metadata": {
    "colab": {
      "name": "webscraping_with_dataquest.ipynb",
      "provenance": [],
      "collapsed_sections": [],
      "authorship_tag": "ABX9TyOHvDkMq2vjOp6SYv9PBihc",
      "include_colab_link": true
    },
    "kernelspec": {
      "name": "python3",
      "display_name": "Python 3"
    }
  },
  "cells": [
    {
      "cell_type": "markdown",
      "metadata": {
        "id": "view-in-github",
        "colab_type": "text"
      },
      "source": [
        "<a href=\"https://colab.research.google.com/github/QuothTheRaven42/learning_files/blob/master/webscraping_with_dataquest.ipynb\" target=\"_parent\"><img src=\"https://colab.research.google.com/assets/colab-badge.svg\" alt=\"Open In Colab\"/></a>"
      ]
    },
    {
      "cell_type": "markdown",
      "metadata": {
        "id": "3gKfmruXDGxj",
        "colab_type": "text"
      },
      "source": [
        "# more webscraping practice before Thinkful bootcamp starts"
      ]
    },
    {
      "cell_type": "code",
      "metadata": {
        "id": "CaHCratECoY7",
        "colab_type": "code",
        "colab": {
          "base_uri": "https://localhost:8080/",
          "height": 33
        },
        "outputId": "75f57660-9505-4dd8-c023-5622fb276ce0"
      },
      "source": [
        "# downloading a web site\n",
        "import requests \n",
        "\n",
        "# reponse codes starting with 2 indicate success\n",
        "# codes starting with 4 or 5 indicate an error\n",
        "page = requests.get('http://dataquestio.github.io/web-scraping-pages/simple.html')\n",
        "page.status_code"
      ],
      "execution_count": 1,
      "outputs": [
        {
          "output_type": "execute_result",
          "data": {
            "text/plain": [
              "200"
            ]
          },
          "metadata": {
            "tags": []
          },
          "execution_count": 1
        }
      ]
    },
    {
      "cell_type": "code",
      "metadata": {
        "id": "b-rPkzM4DpVI",
        "colab_type": "code",
        "colab": {
          "base_uri": "https://localhost:8080/",
          "height": 53
        },
        "outputId": "9315dee7-bd5d-4959-cce0-57d53b8fc209"
      },
      "source": [
        "# printing html content\n",
        "page.content"
      ],
      "execution_count": 2,
      "outputs": [
        {
          "output_type": "execute_result",
          "data": {
            "text/plain": [
              "b'<!DOCTYPE html>\\n<html>\\n    <head>\\n        <title>A simple example page</title>\\n    </head>\\n    <body>\\n        <p>Here is some simple content for this page.</p>\\n    </body>\\n</html>'"
            ]
          },
          "metadata": {
            "tags": []
          },
          "execution_count": 2
        }
      ]
    },
    {
      "cell_type": "code",
      "metadata": {
        "id": "JMvIX4YJCO0_",
        "colab_type": "code",
        "colab": {
          "base_uri": "https://localhost:8080/",
          "height": 234
        },
        "outputId": "ee81b46a-02d5-4f84-f6e9-c6e960b930c9"
      },
      "source": [
        "from bs4 import BeautifulSoup as bs\n",
        "\n",
        "# could have the 'url' in place of downloaded html content variable\n",
        "soup = bs(page.content, 'html.parser')\n",
        "\n",
        "# adding whitespace to html for readability with prettify function \n",
        "print(soup.prettify())"
      ],
      "execution_count": 3,
      "outputs": [
        {
          "output_type": "stream",
          "text": [
            "<!DOCTYPE html>\n",
            "<html>\n",
            " <head>\n",
            "  <title>\n",
            "   A simple example page\n",
            "  </title>\n",
            " </head>\n",
            " <body>\n",
            "  <p>\n",
            "   Here is some simple content for this page.\n",
            "  </p>\n",
            " </body>\n",
            "</html>\n"
          ],
          "name": "stdout"
        }
      ]
    },
    {
      "cell_type": "code",
      "metadata": {
        "id": "YdC-T1RZE56k",
        "colab_type": "code",
        "colab": {
          "base_uri": "https://localhost:8080/",
          "height": 150
        },
        "outputId": "7e01cef7-4b3c-4032-b0c4-5181cdf13bbd"
      },
      "source": [
        "# 'children' returns a generator iterable, so it needs a list\n",
        "list(soup.children)"
      ],
      "execution_count": 4,
      "outputs": [
        {
          "output_type": "execute_result",
          "data": {
            "text/plain": [
              "['html', '\\n', <html>\n",
              " <head>\n",
              " <title>A simple example page</title>\n",
              " </head>\n",
              " <body>\n",
              " <p>Here is some simple content for this page.</p>\n",
              " </body>\n",
              " </html>]"
            ]
          },
          "metadata": {
            "tags": []
          },
          "execution_count": 4
        }
      ]
    },
    {
      "cell_type": "code",
      "metadata": {
        "id": "9bJA9wOEFbqj",
        "colab_type": "code",
        "colab": {
          "base_uri": "https://localhost:8080/",
          "height": 33
        },
        "outputId": "e7e40c97-5f53-4e47-f1c9-1c92cfb7cd90"
      },
      "source": [
        "# all html elements are now BeautifulSoup objects\n",
        "[type(item) for item in list(soup.children)]"
      ],
      "execution_count": 5,
      "outputs": [
        {
          "output_type": "execute_result",
          "data": {
            "text/plain": [
              "[bs4.element.Doctype, bs4.element.NavigableString, bs4.element.Tag]"
            ]
          },
          "metadata": {
            "tags": []
          },
          "execution_count": 5
        }
      ]
    },
    {
      "cell_type": "code",
      "metadata": {
        "id": "EyN04ppKGON9",
        "colab_type": "code",
        "colab": {
          "base_uri": "https://localhost:8080/",
          "height": 35
        },
        "outputId": "6a8df1b8-065b-49ed-ac41-94d92a1df597"
      },
      "source": [
        "# returns a list of all occurences, index always required\n",
        "soup.find_all('p')[0].get_text()"
      ],
      "execution_count": 6,
      "outputs": [
        {
          "output_type": "execute_result",
          "data": {
            "application/vnd.google.colaboratory.intrinsic": {
              "type": "string"
            },
            "text/plain": [
              "'Here is some simple content for this page.'"
            ]
          },
          "metadata": {
            "tags": []
          },
          "execution_count": 6
        }
      ]
    },
    {
      "cell_type": "code",
      "metadata": {
        "id": "qVEZ_GeiGycr",
        "colab_type": "code",
        "colab": {
          "base_uri": "https://localhost:8080/",
          "height": 35
        },
        "outputId": "188a9a0f-fb72-4119-fa5e-53c00eca6a22"
      },
      "source": [
        "# finding first occurence, as a single object - not a list\n",
        "soup.find('p').get_text()"
      ],
      "execution_count": 7,
      "outputs": [
        {
          "output_type": "execute_result",
          "data": {
            "application/vnd.google.colaboratory.intrinsic": {
              "type": "string"
            },
            "text/plain": [
              "'Here is some simple content for this page.'"
            ]
          },
          "metadata": {
            "tags": []
          },
          "execution_count": 7
        }
      ]
    },
    {
      "cell_type": "markdown",
      "metadata": {
        "id": "ghUSPowNa7NS",
        "colab_type": "text"
      },
      "source": [
        "# **Searching by class and id**"
      ]
    },
    {
      "cell_type": "code",
      "metadata": {
        "id": "RcWF2Sb0aZKV",
        "colab_type": "code",
        "colab": {
          "base_uri": "https://localhost:8080/",
          "height": 435
        },
        "outputId": "104544d9-e47e-40a4-ea82-b54f4ff5de00"
      },
      "source": [
        "page = requests.get('http://dataquestio.github.io/web-scraping-pages/ids_and_classes.html')\n",
        "soup = bs(page.content, 'html.parser')\n",
        "print(soup)"
      ],
      "execution_count": 8,
      "outputs": [
        {
          "output_type": "stream",
          "text": [
            "<html>\n",
            "<head>\n",
            "<title>A simple example page</title>\n",
            "</head>\n",
            "<body>\n",
            "<div>\n",
            "<p class=\"inner-text first-item\" id=\"first\">\n",
            "                First paragraph.\n",
            "            </p>\n",
            "<p class=\"inner-text\">\n",
            "                Second paragraph.\n",
            "            </p>\n",
            "</div>\n",
            "<p class=\"outer-text first-item\" id=\"second\">\n",
            "<b>\n",
            "                First outer paragraph.\n",
            "            </b>\n",
            "</p>\n",
            "<p class=\"outer-text\">\n",
            "<b>\n",
            "                Second outer paragraph.\n",
            "            </b>\n",
            "</p>\n",
            "</body>\n",
            "</html>\n"
          ],
          "name": "stdout"
        }
      ]
    },
    {
      "cell_type": "code",
      "metadata": {
        "id": "wYlEeNeVbPu1",
        "colab_type": "code",
        "colab": {
          "base_uri": "https://localhost:8080/",
          "height": 167
        },
        "outputId": "30cd4906-c9c6-4a9e-b41e-b9bb93666e1b"
      },
      "source": [
        "# find where the 'p' tag has the 'outer-text' class\n",
        "soup.find_all('p', 'outer-text')\n",
        "# find_all includes classes that had more to their strings"
      ],
      "execution_count": 9,
      "outputs": [
        {
          "output_type": "execute_result",
          "data": {
            "text/plain": [
              "[<p class=\"outer-text first-item\" id=\"second\">\n",
              " <b>\n",
              "                 First outer paragraph.\n",
              "             </b>\n",
              " </p>, <p class=\"outer-text\">\n",
              " <b>\n",
              "                 Second outer paragraph.\n",
              "             </b>\n",
              " </p>]"
            ]
          },
          "metadata": {
            "tags": []
          },
          "execution_count": 9
        }
      ]
    },
    {
      "cell_type": "code",
      "metadata": {
        "id": "UX5Sh7uwbuSp",
        "colab_type": "code",
        "colab": {
          "base_uri": "https://localhost:8080/",
          "height": 35
        },
        "outputId": "79aaf5c0-d218-40fd-a983-e0ff3aedd0a9"
      },
      "source": [
        "# it's a bs4 list-type object, you can add index to the end \n",
        "soup.find_all('p', 'outer-text')[1].get_text().strip()\n",
        "# got the text and stripped all the new lines and white space"
      ],
      "execution_count": 10,
      "outputs": [
        {
          "output_type": "execute_result",
          "data": {
            "application/vnd.google.colaboratory.intrinsic": {
              "type": "string"
            },
            "text/plain": [
              "'Second outer paragraph.'"
            ]
          },
          "metadata": {
            "tags": []
          },
          "execution_count": 10
        }
      ]
    },
    {
      "cell_type": "code",
      "metadata": {
        "id": "k9O4rzCAdemc",
        "colab_type": "code",
        "colab": {
          "base_uri": "https://localhost:8080/",
          "height": 167
        },
        "outputId": "232a0852-2ba5-437c-fe13-db90e4559ce1"
      },
      "source": [
        "# must call class_ explicitly if you're only looking for the class itself\n",
        "soup.find_all(class_='outer-text')"
      ],
      "execution_count": 11,
      "outputs": [
        {
          "output_type": "execute_result",
          "data": {
            "text/plain": [
              "[<p class=\"outer-text first-item\" id=\"second\">\n",
              " <b>\n",
              "                 First outer paragraph.\n",
              "             </b>\n",
              " </p>, <p class=\"outer-text\">\n",
              " <b>\n",
              "                 Second outer paragraph.\n",
              "             </b>\n",
              " </p>]"
            ]
          },
          "metadata": {
            "tags": []
          },
          "execution_count": 11
        }
      ]
    },
    {
      "cell_type": "code",
      "metadata": {
        "id": "l7fJEVmMeW-W",
        "colab_type": "code",
        "colab": {
          "base_uri": "https://localhost:8080/",
          "height": 67
        },
        "outputId": "ce79b4e5-e030-40f7-b9a9-09f59b749828"
      },
      "source": [
        "# finding by id\n",
        "soup.find_all(id='first')"
      ],
      "execution_count": 12,
      "outputs": [
        {
          "output_type": "execute_result",
          "data": {
            "text/plain": [
              "[<p class=\"inner-text first-item\" id=\"first\">\n",
              "                 First paragraph.\n",
              "             </p>]"
            ]
          },
          "metadata": {
            "tags": []
          },
          "execution_count": 12
        }
      ]
    },
    {
      "cell_type": "markdown",
      "metadata": {
        "id": "wXQh05WPfLiM",
        "colab_type": "text"
      },
      "source": [
        "# **Using CSS Selectors**"
      ]
    },
    {
      "cell_type": "markdown",
      "metadata": {
        "id": "GF3obj4igImq",
        "colab_type": "text"
      },
      "source": [
        "* *p a* — finds all a tags inside of a p tag.\n",
        "* *body p a* — finds all a tags inside of a p tag inside of a body tag.\n",
        "* *html body* — finds all body tags inside of an html tag.\n",
        "* *p.outer-text* — finds all p tags with a class of outer-text.\n",
        "* *p#first* — finds all p tags with an id of first.\n",
        "* *body p.outer-text* — finds any p tags with a class of outer-text inside of a body tag.\n",
        "\n"
      ]
    },
    {
      "cell_type": "code",
      "metadata": {
        "id": "_e_Vc9BCeyxi",
        "colab_type": "code",
        "colab": {
          "base_uri": "https://localhost:8080/",
          "height": 100
        },
        "outputId": "e7f46c4b-6a65-4b35-ae48-2247a0457729"
      },
      "source": [
        "# searching a page via CSS selectors using the select method\n",
        "soup.select('div p') # all p tags inside of div \n",
        "# returns a list"
      ],
      "execution_count": 13,
      "outputs": [
        {
          "output_type": "execute_result",
          "data": {
            "text/plain": [
              "[<p class=\"inner-text first-item\" id=\"first\">\n",
              "                 First paragraph.\n",
              "             </p>, <p class=\"inner-text\">\n",
              "                 Second paragraph.\n",
              "             </p>]"
            ]
          },
          "metadata": {
            "tags": []
          },
          "execution_count": 13
        }
      ]
    },
    {
      "cell_type": "code",
      "metadata": {
        "id": "pdKMLd5dhgP_",
        "colab_type": "code",
        "colab": {
          "base_uri": "https://localhost:8080/",
          "height": 35
        },
        "outputId": "67c02368-4b33-4707-cd58-d9f1d497a997"
      },
      "source": [
        "soup.select('div p')[0].get_text().strip()"
      ],
      "execution_count": 14,
      "outputs": [
        {
          "output_type": "execute_result",
          "data": {
            "application/vnd.google.colaboratory.intrinsic": {
              "type": "string"
            },
            "text/plain": [
              "'First paragraph.'"
            ]
          },
          "metadata": {
            "tags": []
          },
          "execution_count": 14
        }
      ]
    },
    {
      "cell_type": "markdown",
      "metadata": {
        "id": "WXNtttOcU46z",
        "colab_type": "text"
      },
      "source": [
        "# **Downloading Weather Data**"
      ]
    },
    {
      "cell_type": "code",
      "metadata": {
        "id": "h_8JMgkRoS9x",
        "colab_type": "code",
        "colab": {
          "base_uri": "https://localhost:8080/",
          "height": 33
        },
        "outputId": "d979e13d-98b4-4bb2-8035-81ebf6e275ba"
      },
      "source": [
        "page = requests.get('https://forecast.weather.gov/MapClick.php?lat=32.1378&lon=-94.8023#.Xw-zip5KjBU')\n",
        "page.status_code"
      ],
      "execution_count": 15,
      "outputs": [
        {
          "output_type": "execute_result",
          "data": {
            "text/plain": [
              "200"
            ]
          },
          "metadata": {
            "tags": []
          },
          "execution_count": 15
        }
      ]
    },
    {
      "cell_type": "code",
      "metadata": {
        "id": "h0ROS8_TWnmM",
        "colab_type": "code",
        "colab": {}
      },
      "source": [
        "soup = bs(page.content, 'html.parser')"
      ],
      "execution_count": 16,
      "outputs": []
    },
    {
      "cell_type": "code",
      "metadata": {
        "id": "nCmjyNnPWojf",
        "colab_type": "code",
        "colab": {}
      },
      "source": [
        "# list(soup.children) tombstones.find_all('p', 'period-name')"
      ],
      "execution_count": 17,
      "outputs": []
    },
    {
      "cell_type": "code",
      "metadata": {
        "id": "BkkDNcswbwxJ",
        "colab_type": "code",
        "colab": {}
      },
      "source": [
        "tombstones1 = soup.select('div p.period-name')[1].get_text()"
      ],
      "execution_count": 18,
      "outputs": []
    },
    {
      "cell_type": "code",
      "metadata": {
        "id": "PJg5-A3XWuaf",
        "colab_type": "code",
        "colab": {}
      },
      "source": [
        "tombstones2 = soup.select('div p.short-desc')[1].get_text()"
      ],
      "execution_count": 19,
      "outputs": []
    },
    {
      "cell_type": "code",
      "metadata": {
        "id": "g17CKpQ8bVxE",
        "colab_type": "code",
        "colab": {}
      },
      "source": [
        "tombstones3 = soup.select('div p.temp.temp-low')[0].get_text()"
      ],
      "execution_count": 20,
      "outputs": []
    },
    {
      "cell_type": "code",
      "metadata": {
        "id": "_NakTtNoXTOQ",
        "colab_type": "code",
        "colab": {}
      },
      "source": [
        "# for each in range(1,8):\n",
        "#     if 'Tonight' in tombstones[each].get_text() or 'Today' in tombstones[each].get_text():\n",
        "#         print(tombstones[each].get_text().strip())"
      ],
      "execution_count": 21,
      "outputs": []
    },
    {
      "cell_type": "code",
      "metadata": {
        "id": "-Xz-Y6vFXuFI",
        "colab_type": "code",
        "colab": {
          "base_uri": "https://localhost:8080/",
          "height": 67
        },
        "outputId": "2bfa8453-83c8-4c2d-a2ad-57490de7049a"
      },
      "source": [
        "print(tombstones1, tombstones2, tombstones3, sep='\\n')"
      ],
      "execution_count": 22,
      "outputs": [
        {
          "output_type": "stream",
          "text": [
            "Tonight\n",
            "Partly Cloudy\n",
            "Low: 77 °F\n"
          ],
          "name": "stdout"
        }
      ]
    },
    {
      "cell_type": "code",
      "metadata": {
        "id": "zdOi9W6HcI_U",
        "colab_type": "code",
        "colab": {
          "base_uri": "https://localhost:8080/",
          "height": 33
        },
        "outputId": "d6ce5f56-d343-4656-8988-6ea687d23096"
      },
      "source": [
        "soup.find('img')"
      ],
      "execution_count": 23,
      "outputs": [
        {
          "output_type": "execute_result",
          "data": {
            "text/plain": [
              "<img alt=\"National Oceanic and Atmospheric Administration\" src=\"/css/images/header_noaa.png\"/>"
            ]
          },
          "metadata": {
            "tags": []
          },
          "execution_count": 23
        }
      ]
    },
    {
      "cell_type": "code",
      "metadata": {
        "id": "2N84ogqAcq6G",
        "colab_type": "code",
        "colab": {
          "base_uri": "https://localhost:8080/",
          "height": 304
        },
        "outputId": "61109608-96fa-4146-e476-1bf529ff539e"
      },
      "source": [
        "week = soup.find(id='seven-day-forecast')\n",
        "today = week.find_all(class_='tombstone-container')[1]\n",
        "print(today.prettify())"
      ],
      "execution_count": 24,
      "outputs": [
        {
          "output_type": "stream",
          "text": [
            "<div class=\"tombstone-container\">\n",
            " <p class=\"period-name\">\n",
            "  Tonight\n",
            "  <br/>\n",
            "  <br/>\n",
            " </p>\n",
            " <p>\n",
            "  <img alt=\"Tonight: Partly cloudy, with a low around 77. South wind 5 to 10 mph. \" class=\"forecast-icon\" src=\"newimages/medium/nsct.png\" title=\"Tonight: Partly cloudy, with a low around 77. South wind 5 to 10 mph. \"/>\n",
            " </p>\n",
            " <p class=\"short-desc\">\n",
            "  Partly Cloudy\n",
            " </p>\n",
            " <p class=\"temp temp-low\">\n",
            "  Low: 77 °F\n",
            " </p>\n",
            "</div>\n"
          ],
          "name": "stdout"
        }
      ]
    },
    {
      "cell_type": "code",
      "metadata": {
        "id": "FjUtf_D-c9Rp",
        "colab_type": "code",
        "colab": {
          "base_uri": "https://localhost:8080/",
          "height": 35
        },
        "outputId": "ebe0b79c-d73c-400f-c600-783fe6d8b863"
      },
      "source": [
        "today.find(class_='period-name').get_text()"
      ],
      "execution_count": 25,
      "outputs": [
        {
          "output_type": "execute_result",
          "data": {
            "application/vnd.google.colaboratory.intrinsic": {
              "type": "string"
            },
            "text/plain": [
              "'Tonight'"
            ]
          },
          "metadata": {
            "tags": []
          },
          "execution_count": 25
        }
      ]
    },
    {
      "cell_type": "code",
      "metadata": {
        "id": "IYsdRUQ-efiy",
        "colab_type": "code",
        "colab": {
          "base_uri": "https://localhost:8080/",
          "height": 35
        },
        "outputId": "7f679674-b1e4-4707-cc67-8507932ae3fa"
      },
      "source": [
        "today.find(class_='temp').get_text()"
      ],
      "execution_count": 26,
      "outputs": [
        {
          "output_type": "execute_result",
          "data": {
            "application/vnd.google.colaboratory.intrinsic": {
              "type": "string"
            },
            "text/plain": [
              "'Low: 77 °F'"
            ]
          },
          "metadata": {
            "tags": []
          },
          "execution_count": 26
        }
      ]
    },
    {
      "cell_type": "code",
      "metadata": {
        "id": "E2QxDaGQfGXU",
        "colab_type": "code",
        "colab": {
          "base_uri": "https://localhost:8080/",
          "height": 35
        },
        "outputId": "f367aabb-03f1-4674-f766-9b53daa5b701"
      },
      "source": [
        "today.find(class_='short-desc').get_text()"
      ],
      "execution_count": 27,
      "outputs": [
        {
          "output_type": "execute_result",
          "data": {
            "application/vnd.google.colaboratory.intrinsic": {
              "type": "string"
            },
            "text/plain": [
              "'Partly Cloudy'"
            ]
          },
          "metadata": {
            "tags": []
          },
          "execution_count": 27
        }
      ]
    },
    {
      "cell_type": "code",
      "metadata": {
        "id": "nyfNdIqhfRVR",
        "colab_type": "code",
        "colab": {
          "base_uri": "https://localhost:8080/",
          "height": 35
        },
        "outputId": "9849d6fc-44b9-4d8b-aaaa-ad48393eb247"
      },
      "source": [
        "today.find('img')['title']"
      ],
      "execution_count": 28,
      "outputs": [
        {
          "output_type": "execute_result",
          "data": {
            "application/vnd.google.colaboratory.intrinsic": {
              "type": "string"
            },
            "text/plain": [
              "'Tonight: Partly cloudy, with a low around 77. South wind 5 to 10 mph. '"
            ]
          },
          "metadata": {
            "tags": []
          },
          "execution_count": 28
        }
      ]
    },
    {
      "cell_type": "code",
      "metadata": {
        "id": "mTW1HgtHfaPV",
        "colab_type": "code",
        "colab": {
          "base_uri": "https://localhost:8080/",
          "height": 1000
        },
        "outputId": "acfdff30-5069-45ca-f3c0-79665f485538"
      },
      "source": [
        "print(week.prettify())"
      ],
      "execution_count": 29,
      "outputs": [
        {
          "output_type": "stream",
          "text": [
            "<div class=\"panel panel-default\" id=\"seven-day-forecast\">\n",
            " <div class=\"panel-heading\">\n",
            "  <b>\n",
            "   Extended Forecast for\n",
            "  </b>\n",
            "  <h2 class=\"panel-title\">\n",
            "   Henderson TX\n",
            "  </h2>\n",
            " </div>\n",
            " <div class=\"panel-body\" id=\"seven-day-forecast-body\">\n",
            "  <div id=\"seven-day-forecast-container\">\n",
            "   <div class=\"current-hazard\" id=\"headline-container\" style=\"margin-left: 124px\">\n",
            "    <div id=\"headline-separator\" style=\"top: 34px; height: 131px\">\n",
            "    </div>\n",
            "    <div id=\"headline-info\" onclick=\"$('#headline-detail').toggle(); $('#headline-detail-now').hide()\" style=\"margin-top: 5px\">\n",
            "     <div id=\"headline-detail\">\n",
            "      <div>\n",
            "       Heat Advisory until July 16, 07:00pm\n",
            "      </div>\n",
            "     </div>\n",
            "     <span class=\"fa fa-info-circle\">\n",
            "     </span>\n",
            "     Click here for hazard details and duration\n",
            "    </div>\n",
            "    <div class=\"headline-bar headline-advisory \" style=\"top: 40px; left: 19px; height: 125px; width: 239px\">\n",
            "     <div class=\"headline-title\">\n",
            "      Heat Advisory\n",
            "     </div>\n",
            "    </div>\n",
            "   </div>\n",
            "   <ul class=\"list-unstyled\" id=\"seven-day-forecast-list\" style=\"padding-top: 60px\">\n",
            "    <li class=\"forecast-tombstone current-hazard current-hazard-advisory\" onclick=\"$('#headline-detail-now').toggle(); $('#headline-detail').hide()\">\n",
            "     <div class=\"top-bar\">\n",
            "      <div id=\"headline-detail-now\">\n",
            "       <div>\n",
            "        Heat Advisory until July 16, 07:00pm\n",
            "       </div>\n",
            "      </div>\n",
            "      <span class=\"tab\">\n",
            "      </span>\n",
            "      <span class=\"fa fa-info-circle\">\n",
            "      </span>\n",
            "     </div>\n",
            "     <div class=\"tombstone-container\">\n",
            "      <p class=\"period-name\">\n",
            "       NOW until\n",
            "       <br/>\n",
            "       7:00pm Thu\n",
            "      </p>\n",
            "      <p>\n",
            "       <img alt=\"\" class=\"forecast-icon\" src=\"newimages/medium/nsct.png\" title=\"\"/>\n",
            "      </p>\n",
            "      <p class=\"short-desc\">\n",
            "       Heat Advisory\n",
            "      </p>\n",
            "     </div>\n",
            "    </li>\n",
            "    <li class=\"forecast-tombstone\">\n",
            "     <div class=\"tombstone-container\">\n",
            "      <p class=\"period-name\">\n",
            "       Tonight\n",
            "       <br/>\n",
            "       <br/>\n",
            "      </p>\n",
            "      <p>\n",
            "       <img alt=\"Tonight: Partly cloudy, with a low around 77. South wind 5 to 10 mph. \" class=\"forecast-icon\" src=\"newimages/medium/nsct.png\" title=\"Tonight: Partly cloudy, with a low around 77. South wind 5 to 10 mph. \"/>\n",
            "      </p>\n",
            "      <p class=\"short-desc\">\n",
            "       Partly Cloudy\n",
            "      </p>\n",
            "      <p class=\"temp temp-low\">\n",
            "       Low: 77 °F\n",
            "      </p>\n",
            "     </div>\n",
            "    </li>\n",
            "    <li class=\"forecast-tombstone\">\n",
            "     <div class=\"tombstone-container\">\n",
            "      <p class=\"period-name\">\n",
            "       Thursday\n",
            "       <br/>\n",
            "       <br/>\n",
            "      </p>\n",
            "      <p>\n",
            "       <img alt=\"Thursday: Mostly sunny and hot, with a high near 95. Heat index values as high as 103. Southwest wind 5 to 10 mph. \" class=\"forecast-icon\" src=\"newimages/medium/hot.png\" title=\"Thursday: Mostly sunny and hot, with a high near 95. Heat index values as high as 103. Southwest wind 5 to 10 mph. \"/>\n",
            "      </p>\n",
            "      <p class=\"short-desc\">\n",
            "       Hot\n",
            "      </p>\n",
            "      <p class=\"temp temp-high\">\n",
            "       High: 95 °F\n",
            "      </p>\n",
            "     </div>\n",
            "    </li>\n",
            "    <li class=\"forecast-tombstone\">\n",
            "     <div class=\"tombstone-container\">\n",
            "      <p class=\"period-name\">\n",
            "       Thursday\n",
            "       <br/>\n",
            "       Night\n",
            "      </p>\n",
            "      <p>\n",
            "       <img alt=\"Thursday Night: Mostly clear, with a low around 75. South wind around 5 mph becoming calm  in the evening. \" class=\"forecast-icon\" src=\"newimages/medium/nfew.png\" title=\"Thursday Night: Mostly clear, with a low around 75. South wind around 5 mph becoming calm  in the evening. \"/>\n",
            "      </p>\n",
            "      <p class=\"short-desc\">\n",
            "       Mostly Clear\n",
            "      </p>\n",
            "      <p class=\"temp temp-low\">\n",
            "       Low: 75 °F\n",
            "      </p>\n",
            "     </div>\n",
            "    </li>\n",
            "    <li class=\"forecast-tombstone\">\n",
            "     <div class=\"tombstone-container\">\n",
            "      <p class=\"period-name\">\n",
            "       Friday\n",
            "       <br/>\n",
            "       <br/>\n",
            "      </p>\n",
            "      <p>\n",
            "       <img alt=\"Friday: A 20 percent chance of showers and thunderstorms after 1pm.  Sunny and hot, with a high near 95. Heat index values as high as 105. Calm wind becoming southwest around 5 mph. \" class=\"forecast-icon\" src=\"DualImage.php?i=few&amp;j=hi_tsra&amp;jp=20\" title=\"Friday: A 20 percent chance of showers and thunderstorms after 1pm.  Sunny and hot, with a high near 95. Heat index values as high as 105. Calm wind becoming southwest around 5 mph. \"/>\n",
            "      </p>\n",
            "      <p class=\"short-desc\">\n",
            "       Sunny then\n",
            "       <br/>\n",
            "       Slight Chance\n",
            "       <br/>\n",
            "       T-storms\n",
            "      </p>\n",
            "      <p class=\"temp temp-high\">\n",
            "       High: 95 °F\n",
            "      </p>\n",
            "     </div>\n",
            "    </li>\n",
            "    <li class=\"forecast-tombstone\">\n",
            "     <div class=\"tombstone-container\">\n",
            "      <p class=\"period-name\">\n",
            "       Friday\n",
            "       <br/>\n",
            "       Night\n",
            "      </p>\n",
            "      <p>\n",
            "       <img alt=\"Friday Night: Mostly clear, with a low around 75. Southeast wind around 5 mph becoming calm. \" class=\"forecast-icon\" src=\"newimages/medium/nfew.png\" title=\"Friday Night: Mostly clear, with a low around 75. Southeast wind around 5 mph becoming calm. \"/>\n",
            "      </p>\n",
            "      <p class=\"short-desc\">\n",
            "       Mostly Clear\n",
            "      </p>\n",
            "      <p class=\"temp temp-low\">\n",
            "       Low: 75 °F\n",
            "      </p>\n",
            "     </div>\n",
            "    </li>\n",
            "    <li class=\"forecast-tombstone\">\n",
            "     <div class=\"tombstone-container\">\n",
            "      <p class=\"period-name\">\n",
            "       Saturday\n",
            "       <br/>\n",
            "       <br/>\n",
            "      </p>\n",
            "      <p>\n",
            "       <img alt=\"Saturday: Sunny and hot, with a high near 95.\" class=\"forecast-icon\" src=\"newimages/medium/hot.png\" title=\"Saturday: Sunny and hot, with a high near 95.\"/>\n",
            "      </p>\n",
            "      <p class=\"short-desc\">\n",
            "       Hot\n",
            "      </p>\n",
            "      <p class=\"temp temp-high\">\n",
            "       High: 95 °F\n",
            "      </p>\n",
            "     </div>\n",
            "    </li>\n",
            "    <li class=\"forecast-tombstone\">\n",
            "     <div class=\"tombstone-container\">\n",
            "      <p class=\"period-name\">\n",
            "       Saturday\n",
            "       <br/>\n",
            "       Night\n",
            "      </p>\n",
            "      <p>\n",
            "       <img alt=\"Saturday Night: Mostly clear, with a low around 75.\" class=\"forecast-icon\" src=\"newimages/medium/nfew.png\" title=\"Saturday Night: Mostly clear, with a low around 75.\"/>\n",
            "      </p>\n",
            "      <p class=\"short-desc\">\n",
            "       Mostly Clear\n",
            "      </p>\n",
            "      <p class=\"temp temp-low\">\n",
            "       Low: 75 °F\n",
            "      </p>\n",
            "     </div>\n",
            "    </li>\n",
            "    <li class=\"forecast-tombstone\">\n",
            "     <div class=\"tombstone-container\">\n",
            "      <p class=\"period-name\">\n",
            "       Sunday\n",
            "       <br/>\n",
            "       <br/>\n",
            "      </p>\n",
            "      <p>\n",
            "       <img alt=\"Sunday: Sunny, with a high near 94.\" class=\"forecast-icon\" src=\"newimages/medium/few.png\" title=\"Sunday: Sunny, with a high near 94.\"/>\n",
            "      </p>\n",
            "      <p class=\"short-desc\">\n",
            "       Sunny\n",
            "      </p>\n",
            "      <p class=\"temp temp-high\">\n",
            "       High: 94 °F\n",
            "      </p>\n",
            "     </div>\n",
            "    </li>\n",
            "   </ul>\n",
            "  </div>\n",
            "  <script type=\"text/javascript\">\n",
            "   // equalize forecast heights\n",
            "$(function () {\n",
            "\tvar maxh = 0;\n",
            "\t$(\".forecast-tombstone .short-desc\").each(function () {\n",
            "\t\tvar h = $(this).height();\n",
            "\t\tif (h > maxh) { maxh = h; }\n",
            "\t});\n",
            "\t$(\".forecast-tombstone .short-desc\").height(maxh);\n",
            "});\n",
            "  </script>\n",
            " </div>\n",
            "</div>\n",
            "\n"
          ],
          "name": "stdout"
        }
      ]
    },
    {
      "cell_type": "code",
      "metadata": {
        "id": "idRejkLff_dv",
        "colab_type": "code",
        "colab": {
          "base_uri": "https://localhost:8080/",
          "height": 33
        },
        "outputId": "19feb43f-cce9-4c33-b101-d383550e79e5"
      },
      "source": [
        "periods = week.find_all(class_='period-name')\n",
        "days = [each.get_text() for each in periods][1:]\n",
        "print(days)"
      ],
      "execution_count": 30,
      "outputs": [
        {
          "output_type": "stream",
          "text": [
            "['Tonight', 'Thursday', 'ThursdayNight', 'Friday', 'FridayNight', 'Saturday', 'SaturdayNight', 'Sunday']\n"
          ],
          "name": "stdout"
        }
      ]
    },
    {
      "cell_type": "code",
      "metadata": {
        "id": "1a3dS-DKgUes",
        "colab_type": "code",
        "colab": {
          "base_uri": "https://localhost:8080/",
          "height": 33
        },
        "outputId": "e49319d8-a8e9-4c4b-bcaa-7cddb82a39e4"
      },
      "source": [
        "temps = week.find_all(class_='temp')\n",
        "temp = [each.get_text() for each in temps][:]\n",
        "print(temp)"
      ],
      "execution_count": 31,
      "outputs": [
        {
          "output_type": "stream",
          "text": [
            "['Low: 77 °F', 'High: 95 °F', 'Low: 75 °F', 'High: 95 °F', 'Low: 75 °F', 'High: 95 °F', 'Low: 75 °F', 'High: 94 °F']\n"
          ],
          "name": "stdout"
        }
      ]
    },
    {
      "cell_type": "code",
      "metadata": {
        "id": "pPm1oiE6g5zg",
        "colab_type": "code",
        "colab": {
          "base_uri": "https://localhost:8080/",
          "height": 33
        },
        "outputId": "06064298-82b7-421a-ccf5-f8de2da8a855"
      },
      "source": [
        "descs = week.find_all(class_='short-desc')\n",
        "desc = [each.get_text() for each in descs][1:]\n",
        "print(desc)"
      ],
      "execution_count": 32,
      "outputs": [
        {
          "output_type": "stream",
          "text": [
            "['Partly Cloudy', 'Hot', 'Mostly Clear', 'Sunny thenSlight ChanceT-storms', 'Mostly Clear', 'Hot', 'Mostly Clear', 'Sunny']\n"
          ],
          "name": "stdout"
        }
      ]
    },
    {
      "cell_type": "code",
      "metadata": {
        "id": "j08-QXJKiPa7",
        "colab_type": "code",
        "colab": {}
      },
      "source": [
        "all = week.find_all('img')\n",
        "full = [each['title'] for each in all][1:]"
      ],
      "execution_count": 33,
      "outputs": []
    },
    {
      "cell_type": "code",
      "metadata": {
        "id": "vOKw-yryhFQd",
        "colab_type": "code",
        "colab": {
          "base_uri": "https://localhost:8080/",
          "height": 316
        },
        "outputId": "311e75d3-e777-482f-e51c-4311d27a9480"
      },
      "source": [
        "import pandas as pd\n",
        "dictionary = {'day': days, 'temp': temp, 'weather': desc, 'full': full}\n",
        "\n",
        "df = pd.DataFrame(dictionary)\n",
        "df.set_index('day')"
      ],
      "execution_count": 34,
      "outputs": [
        {
          "output_type": "execute_result",
          "data": {
            "text/html": [
              "<div>\n",
              "<style scoped>\n",
              "    .dataframe tbody tr th:only-of-type {\n",
              "        vertical-align: middle;\n",
              "    }\n",
              "\n",
              "    .dataframe tbody tr th {\n",
              "        vertical-align: top;\n",
              "    }\n",
              "\n",
              "    .dataframe thead th {\n",
              "        text-align: right;\n",
              "    }\n",
              "</style>\n",
              "<table border=\"1\" class=\"dataframe\">\n",
              "  <thead>\n",
              "    <tr style=\"text-align: right;\">\n",
              "      <th></th>\n",
              "      <th>temp</th>\n",
              "      <th>weather</th>\n",
              "      <th>full</th>\n",
              "    </tr>\n",
              "    <tr>\n",
              "      <th>day</th>\n",
              "      <th></th>\n",
              "      <th></th>\n",
              "      <th></th>\n",
              "    </tr>\n",
              "  </thead>\n",
              "  <tbody>\n",
              "    <tr>\n",
              "      <th>Tonight</th>\n",
              "      <td>Low: 77 °F</td>\n",
              "      <td>Partly Cloudy</td>\n",
              "      <td>Tonight: Partly cloudy, with a low around 77. ...</td>\n",
              "    </tr>\n",
              "    <tr>\n",
              "      <th>Thursday</th>\n",
              "      <td>High: 95 °F</td>\n",
              "      <td>Hot</td>\n",
              "      <td>Thursday: Mostly sunny and hot, with a high ne...</td>\n",
              "    </tr>\n",
              "    <tr>\n",
              "      <th>ThursdayNight</th>\n",
              "      <td>Low: 75 °F</td>\n",
              "      <td>Mostly Clear</td>\n",
              "      <td>Thursday Night: Mostly clear, with a low aroun...</td>\n",
              "    </tr>\n",
              "    <tr>\n",
              "      <th>Friday</th>\n",
              "      <td>High: 95 °F</td>\n",
              "      <td>Sunny thenSlight ChanceT-storms</td>\n",
              "      <td>Friday: A 20 percent chance of showers and thu...</td>\n",
              "    </tr>\n",
              "    <tr>\n",
              "      <th>FridayNight</th>\n",
              "      <td>Low: 75 °F</td>\n",
              "      <td>Mostly Clear</td>\n",
              "      <td>Friday Night: Mostly clear, with a low around ...</td>\n",
              "    </tr>\n",
              "    <tr>\n",
              "      <th>Saturday</th>\n",
              "      <td>High: 95 °F</td>\n",
              "      <td>Hot</td>\n",
              "      <td>Saturday: Sunny and hot, with a high near 95.</td>\n",
              "    </tr>\n",
              "    <tr>\n",
              "      <th>SaturdayNight</th>\n",
              "      <td>Low: 75 °F</td>\n",
              "      <td>Mostly Clear</td>\n",
              "      <td>Saturday Night: Mostly clear, with a low aroun...</td>\n",
              "    </tr>\n",
              "    <tr>\n",
              "      <th>Sunday</th>\n",
              "      <td>High: 94 °F</td>\n",
              "      <td>Sunny</td>\n",
              "      <td>Sunday: Sunny, with a high near 94.</td>\n",
              "    </tr>\n",
              "  </tbody>\n",
              "</table>\n",
              "</div>"
            ],
            "text/plain": [
              "                      temp  ...                                               full\n",
              "day                         ...                                                   \n",
              "Tonight         Low: 77 °F  ...  Tonight: Partly cloudy, with a low around 77. ...\n",
              "Thursday       High: 95 °F  ...  Thursday: Mostly sunny and hot, with a high ne...\n",
              "ThursdayNight   Low: 75 °F  ...  Thursday Night: Mostly clear, with a low aroun...\n",
              "Friday         High: 95 °F  ...  Friday: A 20 percent chance of showers and thu...\n",
              "FridayNight     Low: 75 °F  ...  Friday Night: Mostly clear, with a low around ...\n",
              "Saturday       High: 95 °F  ...      Saturday: Sunny and hot, with a high near 95.\n",
              "SaturdayNight   Low: 75 °F  ...  Saturday Night: Mostly clear, with a low aroun...\n",
              "Sunday         High: 94 °F  ...                Sunday: Sunny, with a high near 94.\n",
              "\n",
              "[8 rows x 3 columns]"
            ]
          },
          "metadata": {
            "tags": []
          },
          "execution_count": 34
        }
      ]
    },
    {
      "cell_type": "code",
      "metadata": {
        "id": "iMSEG14ejZhg",
        "colab_type": "code",
        "colab": {
          "base_uri": "https://localhost:8080/",
          "height": 286
        },
        "outputId": "82c13334-3d16-4f44-bc29-d2444c2931c7"
      },
      "source": [
        "# import regex as re\n",
        "# temp_nums = re.compile(r'\\d*')\n",
        "\n",
        "# for each in df:\n",
        "#     m = re.match(temp_nums, each)\n",
        "#     print(m)\n",
        "temp_nums = df[\"temp\"].str.extract(\"(?P<temp_num>\\d+)\", expand=False)\n",
        "df[\"temp_num\"] = temp_nums.astype('int')\n",
        "df"
      ],
      "execution_count": 35,
      "outputs": [
        {
          "output_type": "execute_result",
          "data": {
            "text/html": [
              "<div>\n",
              "<style scoped>\n",
              "    .dataframe tbody tr th:only-of-type {\n",
              "        vertical-align: middle;\n",
              "    }\n",
              "\n",
              "    .dataframe tbody tr th {\n",
              "        vertical-align: top;\n",
              "    }\n",
              "\n",
              "    .dataframe thead th {\n",
              "        text-align: right;\n",
              "    }\n",
              "</style>\n",
              "<table border=\"1\" class=\"dataframe\">\n",
              "  <thead>\n",
              "    <tr style=\"text-align: right;\">\n",
              "      <th></th>\n",
              "      <th>day</th>\n",
              "      <th>temp</th>\n",
              "      <th>weather</th>\n",
              "      <th>full</th>\n",
              "      <th>temp_num</th>\n",
              "    </tr>\n",
              "  </thead>\n",
              "  <tbody>\n",
              "    <tr>\n",
              "      <th>0</th>\n",
              "      <td>Tonight</td>\n",
              "      <td>Low: 77 °F</td>\n",
              "      <td>Partly Cloudy</td>\n",
              "      <td>Tonight: Partly cloudy, with a low around 77. ...</td>\n",
              "      <td>77</td>\n",
              "    </tr>\n",
              "    <tr>\n",
              "      <th>1</th>\n",
              "      <td>Thursday</td>\n",
              "      <td>High: 95 °F</td>\n",
              "      <td>Hot</td>\n",
              "      <td>Thursday: Mostly sunny and hot, with a high ne...</td>\n",
              "      <td>95</td>\n",
              "    </tr>\n",
              "    <tr>\n",
              "      <th>2</th>\n",
              "      <td>ThursdayNight</td>\n",
              "      <td>Low: 75 °F</td>\n",
              "      <td>Mostly Clear</td>\n",
              "      <td>Thursday Night: Mostly clear, with a low aroun...</td>\n",
              "      <td>75</td>\n",
              "    </tr>\n",
              "    <tr>\n",
              "      <th>3</th>\n",
              "      <td>Friday</td>\n",
              "      <td>High: 95 °F</td>\n",
              "      <td>Sunny thenSlight ChanceT-storms</td>\n",
              "      <td>Friday: A 20 percent chance of showers and thu...</td>\n",
              "      <td>95</td>\n",
              "    </tr>\n",
              "    <tr>\n",
              "      <th>4</th>\n",
              "      <td>FridayNight</td>\n",
              "      <td>Low: 75 °F</td>\n",
              "      <td>Mostly Clear</td>\n",
              "      <td>Friday Night: Mostly clear, with a low around ...</td>\n",
              "      <td>75</td>\n",
              "    </tr>\n",
              "    <tr>\n",
              "      <th>5</th>\n",
              "      <td>Saturday</td>\n",
              "      <td>High: 95 °F</td>\n",
              "      <td>Hot</td>\n",
              "      <td>Saturday: Sunny and hot, with a high near 95.</td>\n",
              "      <td>95</td>\n",
              "    </tr>\n",
              "    <tr>\n",
              "      <th>6</th>\n",
              "      <td>SaturdayNight</td>\n",
              "      <td>Low: 75 °F</td>\n",
              "      <td>Mostly Clear</td>\n",
              "      <td>Saturday Night: Mostly clear, with a low aroun...</td>\n",
              "      <td>75</td>\n",
              "    </tr>\n",
              "    <tr>\n",
              "      <th>7</th>\n",
              "      <td>Sunday</td>\n",
              "      <td>High: 94 °F</td>\n",
              "      <td>Sunny</td>\n",
              "      <td>Sunday: Sunny, with a high near 94.</td>\n",
              "      <td>94</td>\n",
              "    </tr>\n",
              "  </tbody>\n",
              "</table>\n",
              "</div>"
            ],
            "text/plain": [
              "             day  ... temp_num\n",
              "0        Tonight  ...       77\n",
              "1       Thursday  ...       95\n",
              "2  ThursdayNight  ...       75\n",
              "3         Friday  ...       95\n",
              "4    FridayNight  ...       75\n",
              "5       Saturday  ...       95\n",
              "6  SaturdayNight  ...       75\n",
              "7         Sunday  ...       94\n",
              "\n",
              "[8 rows x 5 columns]"
            ]
          },
          "metadata": {
            "tags": []
          },
          "execution_count": 35
        }
      ]
    },
    {
      "cell_type": "code",
      "metadata": {
        "id": "xkGfeYjokZ2u",
        "colab_type": "code",
        "colab": {
          "base_uri": "https://localhost:8080/",
          "height": 33
        },
        "outputId": "49f2c7a4-db8f-45c9-9b14-8e0eb85d1290"
      },
      "source": [
        "# average daily high\n",
        "df.temp_num[1::2].mean()"
      ],
      "execution_count": 36,
      "outputs": [
        {
          "output_type": "execute_result",
          "data": {
            "text/plain": [
              "94.75"
            ]
          },
          "metadata": {
            "tags": []
          },
          "execution_count": 36
        }
      ]
    },
    {
      "cell_type": "code",
      "metadata": {
        "id": "dNTuSCu3kgid",
        "colab_type": "code",
        "colab": {
          "base_uri": "https://localhost:8080/",
          "height": 166
        },
        "outputId": "d278f410-f74f-4d63-e88f-80aabe20a7a9"
      },
      "source": [
        "# only night rows\n",
        "is_night = df.temp.str.contains('Low')\n",
        "df[is_night]"
      ],
      "execution_count": 37,
      "outputs": [
        {
          "output_type": "execute_result",
          "data": {
            "text/html": [
              "<div>\n",
              "<style scoped>\n",
              "    .dataframe tbody tr th:only-of-type {\n",
              "        vertical-align: middle;\n",
              "    }\n",
              "\n",
              "    .dataframe tbody tr th {\n",
              "        vertical-align: top;\n",
              "    }\n",
              "\n",
              "    .dataframe thead th {\n",
              "        text-align: right;\n",
              "    }\n",
              "</style>\n",
              "<table border=\"1\" class=\"dataframe\">\n",
              "  <thead>\n",
              "    <tr style=\"text-align: right;\">\n",
              "      <th></th>\n",
              "      <th>day</th>\n",
              "      <th>temp</th>\n",
              "      <th>weather</th>\n",
              "      <th>full</th>\n",
              "      <th>temp_num</th>\n",
              "    </tr>\n",
              "  </thead>\n",
              "  <tbody>\n",
              "    <tr>\n",
              "      <th>0</th>\n",
              "      <td>Tonight</td>\n",
              "      <td>Low: 77 °F</td>\n",
              "      <td>Partly Cloudy</td>\n",
              "      <td>Tonight: Partly cloudy, with a low around 77. ...</td>\n",
              "      <td>77</td>\n",
              "    </tr>\n",
              "    <tr>\n",
              "      <th>2</th>\n",
              "      <td>ThursdayNight</td>\n",
              "      <td>Low: 75 °F</td>\n",
              "      <td>Mostly Clear</td>\n",
              "      <td>Thursday Night: Mostly clear, with a low aroun...</td>\n",
              "      <td>75</td>\n",
              "    </tr>\n",
              "    <tr>\n",
              "      <th>4</th>\n",
              "      <td>FridayNight</td>\n",
              "      <td>Low: 75 °F</td>\n",
              "      <td>Mostly Clear</td>\n",
              "      <td>Friday Night: Mostly clear, with a low around ...</td>\n",
              "      <td>75</td>\n",
              "    </tr>\n",
              "    <tr>\n",
              "      <th>6</th>\n",
              "      <td>SaturdayNight</td>\n",
              "      <td>Low: 75 °F</td>\n",
              "      <td>Mostly Clear</td>\n",
              "      <td>Saturday Night: Mostly clear, with a low aroun...</td>\n",
              "      <td>75</td>\n",
              "    </tr>\n",
              "  </tbody>\n",
              "</table>\n",
              "</div>"
            ],
            "text/plain": [
              "             day  ... temp_num\n",
              "0        Tonight  ...       77\n",
              "2  ThursdayNight  ...       75\n",
              "4    FridayNight  ...       75\n",
              "6  SaturdayNight  ...       75\n",
              "\n",
              "[4 rows x 5 columns]"
            ]
          },
          "metadata": {
            "tags": []
          },
          "execution_count": 37
        }
      ]
    },
    {
      "cell_type": "code",
      "metadata": {
        "id": "cPgtJKfnrznM",
        "colab_type": "code",
        "colab": {}
      },
      "source": [
        ""
      ],
      "execution_count": 37,
      "outputs": []
    }
  ]
}